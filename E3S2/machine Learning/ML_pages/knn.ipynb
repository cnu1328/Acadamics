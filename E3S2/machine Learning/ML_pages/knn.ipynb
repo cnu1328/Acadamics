{
 "cells": [
  {
   "cell_type": "code",
   "execution_count": 1,
   "metadata": {},
   "outputs": [],
   "source": [
    "# Importing the required libraries\n",
    "import pandas as pd\n",
    "import numpy as np\n",
    "import matplotlib.pyplot as plt\n",
    "import seaborn as sns\n",
    "%matplotlib inline"
   ]
  },
  {
   "cell_type": "code",
   "execution_count": 114,
   "metadata": {},
   "outputs": [
    {
     "data": {
      "text/html": [
       "<div>\n",
       "<style scoped>\n",
       "    .dataframe tbody tr th:only-of-type {\n",
       "        vertical-align: middle;\n",
       "    }\n",
       "\n",
       "    .dataframe tbody tr th {\n",
       "        vertical-align: top;\n",
       "    }\n",
       "\n",
       "    .dataframe thead th {\n",
       "        text-align: right;\n",
       "    }\n",
       "</style>\n",
       "<table border=\"1\" class=\"dataframe\">\n",
       "  <thead>\n",
       "    <tr style=\"text-align: right;\">\n",
       "      <th></th>\n",
       "      <th>Player</th>\n",
       "      <th>Mat</th>\n",
       "      <th>Runs</th>\n",
       "      <th>Wkts</th>\n",
       "      <th>player type</th>\n",
       "    </tr>\n",
       "  </thead>\n",
       "  <tbody>\n",
       "    <tr>\n",
       "      <th>0</th>\n",
       "      <td>A Kumble</td>\n",
       "      <td>271</td>\n",
       "      <td>938</td>\n",
       "      <td>334</td>\n",
       "      <td>Bowler</td>\n",
       "    </tr>\n",
       "    <tr>\n",
       "      <th>1</th>\n",
       "      <td>J Srinath</td>\n",
       "      <td>229</td>\n",
       "      <td>883</td>\n",
       "      <td>315</td>\n",
       "      <td>Bowler</td>\n",
       "    </tr>\n",
       "    <tr>\n",
       "      <th>2</th>\n",
       "      <td>Z Khan</td>\n",
       "      <td>200</td>\n",
       "      <td>792</td>\n",
       "      <td>269</td>\n",
       "      <td>Bowler</td>\n",
       "    </tr>\n",
       "    <tr>\n",
       "      <th>3</th>\n",
       "      <td>H Singh</td>\n",
       "      <td>234</td>\n",
       "      <td>1237</td>\n",
       "      <td>265</td>\n",
       "      <td>Bowler</td>\n",
       "    </tr>\n",
       "    <tr>\n",
       "      <th>4</th>\n",
       "      <td>Kapil Dev</td>\n",
       "      <td>225</td>\n",
       "      <td>3783</td>\n",
       "      <td>253</td>\n",
       "      <td>All Rounder</td>\n",
       "    </tr>\n",
       "    <tr>\n",
       "      <th>5</th>\n",
       "      <td>I Phatan</td>\n",
       "      <td>120</td>\n",
       "      <td>1544</td>\n",
       "      <td>173</td>\n",
       "      <td>All Rounder</td>\n",
       "    </tr>\n",
       "    <tr>\n",
       "      <th>6</th>\n",
       "      <td>R Jadeja</td>\n",
       "      <td>147</td>\n",
       "      <td>1990</td>\n",
       "      <td>171</td>\n",
       "      <td>All Rounder</td>\n",
       "    </tr>\n",
       "    <tr>\n",
       "      <th>7</th>\n",
       "      <td>Tendulkhar</td>\n",
       "      <td>463</td>\n",
       "      <td>18426</td>\n",
       "      <td>154</td>\n",
       "      <td>Batsman</td>\n",
       "    </tr>\n",
       "    <tr>\n",
       "      <th>8</th>\n",
       "      <td>R Shwin</td>\n",
       "      <td>111</td>\n",
       "      <td>675</td>\n",
       "      <td>150</td>\n",
       "      <td>Bowler</td>\n",
       "    </tr>\n",
       "    <tr>\n",
       "      <th>9</th>\n",
       "      <td>B Kumar</td>\n",
       "      <td>103</td>\n",
       "      <td>476</td>\n",
       "      <td>114</td>\n",
       "      <td>Bowler</td>\n",
       "    </tr>\n",
       "    <tr>\n",
       "      <th>10</th>\n",
       "      <td>Youvaraj</td>\n",
       "      <td>304</td>\n",
       "      <td>8701</td>\n",
       "      <td>110</td>\n",
       "      <td>All Rounder</td>\n",
       "    </tr>\n",
       "    <tr>\n",
       "      <th>11</th>\n",
       "      <td>Ganguly</td>\n",
       "      <td>308</td>\n",
       "      <td>11363</td>\n",
       "      <td>100</td>\n",
       "      <td>Batsman</td>\n",
       "    </tr>\n",
       "    <tr>\n",
       "      <th>12</th>\n",
       "      <td>Sehwagh</td>\n",
       "      <td>251</td>\n",
       "      <td>8273</td>\n",
       "      <td>94</td>\n",
       "      <td>Batsman</td>\n",
       "    </tr>\n",
       "    <tr>\n",
       "      <th>13</th>\n",
       "      <td>H Pandya</td>\n",
       "      <td>45</td>\n",
       "      <td>731</td>\n",
       "      <td>44</td>\n",
       "      <td>All Rounder</td>\n",
       "    </tr>\n",
       "    <tr>\n",
       "      <th>14</th>\n",
       "      <td>S Raina</td>\n",
       "      <td>226</td>\n",
       "      <td>5615</td>\n",
       "      <td>36</td>\n",
       "      <td>Batsman</td>\n",
       "    </tr>\n",
       "    <tr>\n",
       "      <th>15</th>\n",
       "      <td>R sharma</td>\n",
       "      <td>201</td>\n",
       "      <td>7808</td>\n",
       "      <td>8</td>\n",
       "      <td>Batsman</td>\n",
       "    </tr>\n",
       "    <tr>\n",
       "      <th>16</th>\n",
       "      <td>V Khohli</td>\n",
       "      <td>222</td>\n",
       "      <td>10533</td>\n",
       "      <td>4</td>\n",
       "      <td>Batsman</td>\n",
       "    </tr>\n",
       "  </tbody>\n",
       "</table>\n",
       "</div>"
      ],
      "text/plain": [
       "        Player  Mat   Runs  Wkts  player type\n",
       "0     A Kumble  271    938   334       Bowler\n",
       "1    J Srinath  229    883   315       Bowler\n",
       "2       Z Khan  200    792   269       Bowler\n",
       "3      H Singh  234   1237   265       Bowler\n",
       "4    Kapil Dev  225   3783   253  All Rounder\n",
       "5     I Phatan  120   1544   173  All Rounder\n",
       "6     R Jadeja  147   1990   171  All Rounder\n",
       "7   Tendulkhar  463  18426   154      Batsman\n",
       "8      R Shwin  111    675   150       Bowler\n",
       "9      B Kumar  103    476   114       Bowler\n",
       "10    Youvaraj  304   8701   110  All Rounder\n",
       "11     Ganguly  308  11363   100      Batsman\n",
       "12     Sehwagh  251   8273    94      Batsman\n",
       "13    H Pandya   45    731    44  All Rounder\n",
       "14     S Raina  226   5615    36      Batsman\n",
       "15    R sharma  201   7808     8      Batsman\n",
       "16   V Khohli   222  10533     4      Batsman"
      ]
     },
     "execution_count": 114,
     "metadata": {},
     "output_type": "execute_result"
    }
   ],
   "source": [
    "# Reading the csv file and putting it into 'df' object.\n",
    "df = pd.read_csv('cricketers.csv')\n",
    "df"
   ]
  },
  {
   "cell_type": "code",
   "execution_count": 115,
   "metadata": {},
   "outputs": [],
   "source": [
    "from sklearn.model_selection import train_test_split\n",
    "X_train, X_test, y_train, y_test = train_test_split(df.iloc[:,:-1],df.iloc[:,4], test_size = .25,random_state = 50)"
   ]
  },
  {
   "cell_type": "code",
   "execution_count": 116,
   "metadata": {},
   "outputs": [
    {
     "data": {
      "text/html": [
       "<div>\n",
       "<style scoped>\n",
       "    .dataframe tbody tr th:only-of-type {\n",
       "        vertical-align: middle;\n",
       "    }\n",
       "\n",
       "    .dataframe tbody tr th {\n",
       "        vertical-align: top;\n",
       "    }\n",
       "\n",
       "    .dataframe thead th {\n",
       "        text-align: right;\n",
       "    }\n",
       "</style>\n",
       "<table border=\"1\" class=\"dataframe\">\n",
       "  <thead>\n",
       "    <tr style=\"text-align: right;\">\n",
       "      <th></th>\n",
       "      <th>Player</th>\n",
       "      <th>Mat</th>\n",
       "      <th>Runs</th>\n",
       "      <th>Wkts</th>\n",
       "    </tr>\n",
       "  </thead>\n",
       "  <tbody>\n",
       "    <tr>\n",
       "      <th>7</th>\n",
       "      <td>Tendulkhar</td>\n",
       "      <td>463</td>\n",
       "      <td>18426</td>\n",
       "      <td>154</td>\n",
       "    </tr>\n",
       "    <tr>\n",
       "      <th>9</th>\n",
       "      <td>B Kumar</td>\n",
       "      <td>103</td>\n",
       "      <td>476</td>\n",
       "      <td>114</td>\n",
       "    </tr>\n",
       "    <tr>\n",
       "      <th>8</th>\n",
       "      <td>R Shwin</td>\n",
       "      <td>111</td>\n",
       "      <td>675</td>\n",
       "      <td>150</td>\n",
       "    </tr>\n",
       "    <tr>\n",
       "      <th>10</th>\n",
       "      <td>Youvaraj</td>\n",
       "      <td>304</td>\n",
       "      <td>8701</td>\n",
       "      <td>110</td>\n",
       "    </tr>\n",
       "    <tr>\n",
       "      <th>5</th>\n",
       "      <td>I Phatan</td>\n",
       "      <td>120</td>\n",
       "      <td>1544</td>\n",
       "      <td>173</td>\n",
       "    </tr>\n",
       "    <tr>\n",
       "      <th>6</th>\n",
       "      <td>R Jadeja</td>\n",
       "      <td>147</td>\n",
       "      <td>1990</td>\n",
       "      <td>171</td>\n",
       "    </tr>\n",
       "    <tr>\n",
       "      <th>4</th>\n",
       "      <td>Kapil Dev</td>\n",
       "      <td>225</td>\n",
       "      <td>3783</td>\n",
       "      <td>253</td>\n",
       "    </tr>\n",
       "    <tr>\n",
       "      <th>1</th>\n",
       "      <td>J Srinath</td>\n",
       "      <td>229</td>\n",
       "      <td>883</td>\n",
       "      <td>315</td>\n",
       "    </tr>\n",
       "    <tr>\n",
       "      <th>13</th>\n",
       "      <td>H Pandya</td>\n",
       "      <td>45</td>\n",
       "      <td>731</td>\n",
       "      <td>44</td>\n",
       "    </tr>\n",
       "    <tr>\n",
       "      <th>11</th>\n",
       "      <td>Ganguly</td>\n",
       "      <td>308</td>\n",
       "      <td>11363</td>\n",
       "      <td>100</td>\n",
       "    </tr>\n",
       "    <tr>\n",
       "      <th>0</th>\n",
       "      <td>A Kumble</td>\n",
       "      <td>271</td>\n",
       "      <td>938</td>\n",
       "      <td>334</td>\n",
       "    </tr>\n",
       "    <tr>\n",
       "      <th>16</th>\n",
       "      <td>V Khohli</td>\n",
       "      <td>222</td>\n",
       "      <td>10533</td>\n",
       "      <td>4</td>\n",
       "    </tr>\n",
       "  </tbody>\n",
       "</table>\n",
       "</div>"
      ],
      "text/plain": [
       "        Player  Mat   Runs  Wkts\n",
       "7   Tendulkhar  463  18426   154\n",
       "9      B Kumar  103    476   114\n",
       "8      R Shwin  111    675   150\n",
       "10    Youvaraj  304   8701   110\n",
       "5     I Phatan  120   1544   173\n",
       "6     R Jadeja  147   1990   171\n",
       "4    Kapil Dev  225   3783   253\n",
       "1    J Srinath  229    883   315\n",
       "13    H Pandya   45    731    44\n",
       "11     Ganguly  308  11363   100\n",
       "0     A Kumble  271    938   334\n",
       "16   V Khohli   222  10533     4"
      ]
     },
     "execution_count": 116,
     "metadata": {},
     "output_type": "execute_result"
    }
   ],
   "source": [
    "X_train"
   ]
  },
  {
   "cell_type": "code",
   "execution_count": 117,
   "metadata": {},
   "outputs": [
    {
     "data": {
      "text/html": [
       "<div>\n",
       "<style scoped>\n",
       "    .dataframe tbody tr th:only-of-type {\n",
       "        vertical-align: middle;\n",
       "    }\n",
       "\n",
       "    .dataframe tbody tr th {\n",
       "        vertical-align: top;\n",
       "    }\n",
       "\n",
       "    .dataframe thead th {\n",
       "        text-align: right;\n",
       "    }\n",
       "</style>\n",
       "<table border=\"1\" class=\"dataframe\">\n",
       "  <thead>\n",
       "    <tr style=\"text-align: right;\">\n",
       "      <th></th>\n",
       "      <th>Player</th>\n",
       "      <th>Mat</th>\n",
       "      <th>Runs</th>\n",
       "      <th>Wkts</th>\n",
       "    </tr>\n",
       "  </thead>\n",
       "  <tbody>\n",
       "    <tr>\n",
       "      <th>15</th>\n",
       "      <td>R sharma</td>\n",
       "      <td>201</td>\n",
       "      <td>7808</td>\n",
       "      <td>8</td>\n",
       "    </tr>\n",
       "    <tr>\n",
       "      <th>12</th>\n",
       "      <td>Sehwagh</td>\n",
       "      <td>251</td>\n",
       "      <td>8273</td>\n",
       "      <td>94</td>\n",
       "    </tr>\n",
       "    <tr>\n",
       "      <th>14</th>\n",
       "      <td>S Raina</td>\n",
       "      <td>226</td>\n",
       "      <td>5615</td>\n",
       "      <td>36</td>\n",
       "    </tr>\n",
       "    <tr>\n",
       "      <th>3</th>\n",
       "      <td>H Singh</td>\n",
       "      <td>234</td>\n",
       "      <td>1237</td>\n",
       "      <td>265</td>\n",
       "    </tr>\n",
       "    <tr>\n",
       "      <th>2</th>\n",
       "      <td>Z Khan</td>\n",
       "      <td>200</td>\n",
       "      <td>792</td>\n",
       "      <td>269</td>\n",
       "    </tr>\n",
       "  </tbody>\n",
       "</table>\n",
       "</div>"
      ],
      "text/plain": [
       "      Player  Mat  Runs  Wkts\n",
       "15  R sharma  201  7808     8\n",
       "12   Sehwagh  251  8273    94\n",
       "14   S Raina  226  5615    36\n",
       "3    H Singh  234  1237   265\n",
       "2     Z Khan  200   792   269"
      ]
     },
     "execution_count": 117,
     "metadata": {},
     "output_type": "execute_result"
    }
   ],
   "source": [
    "X_test"
   ]
  },
  {
   "cell_type": "code",
   "execution_count": 119,
   "metadata": {},
   "outputs": [
    {
     "data": {
      "text/plain": [
       "7         Batsman\n",
       "9          Bowler\n",
       "8          Bowler\n",
       "10    All Rounder\n",
       "5     All Rounder\n",
       "6     All Rounder\n",
       "4     All Rounder\n",
       "1          Bowler\n",
       "13    All Rounder\n",
       "11        Batsman\n",
       "0          Bowler\n",
       "16        Batsman\n",
       "Name: player type, dtype: object"
      ]
     },
     "execution_count": 119,
     "metadata": {},
     "output_type": "execute_result"
    }
   ],
   "source": [
    "y_train"
   ]
  },
  {
   "cell_type": "code",
   "execution_count": 120,
   "metadata": {},
   "outputs": [
    {
     "data": {
      "text/plain": [
       "15    Batsman\n",
       "12    Batsman\n",
       "14    Batsman\n",
       "3      Bowler\n",
       "2      Bowler\n",
       "Name: player type, dtype: object"
      ]
     },
     "execution_count": 120,
     "metadata": {},
     "output_type": "execute_result"
    }
   ],
   "source": [
    "y_test"
   ]
  },
  {
   "cell_type": "code",
   "execution_count": 118,
   "metadata": {},
   "outputs": [
    {
     "data": {
      "text/html": [
       "<div>\n",
       "<style scoped>\n",
       "    .dataframe tbody tr th:only-of-type {\n",
       "        vertical-align: middle;\n",
       "    }\n",
       "\n",
       "    .dataframe tbody tr th {\n",
       "        vertical-align: top;\n",
       "    }\n",
       "\n",
       "    .dataframe thead th {\n",
       "        text-align: right;\n",
       "    }\n",
       "</style>\n",
       "<table border=\"1\" class=\"dataframe\">\n",
       "  <thead>\n",
       "    <tr style=\"text-align: right;\">\n",
       "      <th></th>\n",
       "      <th>Player</th>\n",
       "      <th>Mat</th>\n",
       "      <th>Runs</th>\n",
       "      <th>Wkts</th>\n",
       "      <th>player type</th>\n",
       "    </tr>\n",
       "  </thead>\n",
       "  <tbody>\n",
       "    <tr>\n",
       "      <th>0</th>\n",
       "      <td>A Kumble</td>\n",
       "      <td>271</td>\n",
       "      <td>938</td>\n",
       "      <td>334</td>\n",
       "      <td>2</td>\n",
       "    </tr>\n",
       "    <tr>\n",
       "      <th>1</th>\n",
       "      <td>J Srinath</td>\n",
       "      <td>229</td>\n",
       "      <td>883</td>\n",
       "      <td>315</td>\n",
       "      <td>2</td>\n",
       "    </tr>\n",
       "    <tr>\n",
       "      <th>2</th>\n",
       "      <td>Z Khan</td>\n",
       "      <td>200</td>\n",
       "      <td>792</td>\n",
       "      <td>269</td>\n",
       "      <td>2</td>\n",
       "    </tr>\n",
       "    <tr>\n",
       "      <th>3</th>\n",
       "      <td>H Singh</td>\n",
       "      <td>234</td>\n",
       "      <td>1237</td>\n",
       "      <td>265</td>\n",
       "      <td>2</td>\n",
       "    </tr>\n",
       "    <tr>\n",
       "      <th>4</th>\n",
       "      <td>Kapil Dev</td>\n",
       "      <td>225</td>\n",
       "      <td>3783</td>\n",
       "      <td>253</td>\n",
       "      <td>0</td>\n",
       "    </tr>\n",
       "  </tbody>\n",
       "</table>\n",
       "</div>"
      ],
      "text/plain": [
       "      Player  Mat  Runs  Wkts  player type\n",
       "0   A Kumble  271   938   334            2\n",
       "1  J Srinath  229   883   315            2\n",
       "2     Z Khan  200   792   269            2\n",
       "3    H Singh  234  1237   265            2\n",
       "4  Kapil Dev  225  3783   253            0"
      ]
     },
     "execution_count": 118,
     "metadata": {},
     "output_type": "execute_result"
    }
   ],
   "source": [
    "from sklearn.preprocessing import LabelEncoder\n",
    "# apply Label encoder to df_categorical\n",
    "\n",
    "le = LabelEncoder()\n",
    "df.iloc[:,4] = le.fit_transform(df.iloc[:,4])\n",
    "df.head()"
   ]
  },
  {
   "cell_type": "code",
   "execution_count": 76,
   "metadata": {},
   "outputs": [],
   "source": [
    "X = df.iloc[:,1:-1].values\n",
    "y = df.iloc[:,-1].values"
   ]
  },
  {
   "cell_type": "code",
   "execution_count": 77,
   "metadata": {},
   "outputs": [
    {
     "data": {
      "text/plain": [
       "array([[  271,   938,   334],\n",
       "       [  229,   883,   315],\n",
       "       [  200,   792,   269],\n",
       "       [  234,  1237,   265],\n",
       "       [  225,  3783,   253],\n",
       "       [  120,  1544,   173],\n",
       "       [  147,  1990,   171],\n",
       "       [  463, 18426,   154],\n",
       "       [  111,   675,   150],\n",
       "       [  103,   476,   114],\n",
       "       [  304,  8701,   110],\n",
       "       [  308, 11363,   100],\n",
       "       [  251,  8273,    94],\n",
       "       [   45,   731,    44],\n",
       "       [  226,  5615,    36],\n",
       "       [  201,  7808,     8],\n",
       "       [  222, 10533,     4]])"
      ]
     },
     "execution_count": 77,
     "metadata": {},
     "output_type": "execute_result"
    }
   ],
   "source": [
    "X"
   ]
  },
  {
   "cell_type": "code",
   "execution_count": 78,
   "metadata": {},
   "outputs": [
    {
     "data": {
      "text/plain": [
       "array([2, 2, 2, 2, 0, 0, 0, 1, 2, 2, 0, 1, 1, 0, 1, 1, 1])"
      ]
     },
     "execution_count": 78,
     "metadata": {},
     "output_type": "execute_result"
    }
   ],
   "source": [
    "y"
   ]
  },
  {
   "cell_type": "code",
   "execution_count": 79,
   "metadata": {},
   "outputs": [
    {
     "data": {
      "text/plain": [
       "KNeighborsClassifier(algorithm='auto', leaf_size=30, metric='minkowski',\n",
       "           metric_params=None, n_jobs=None, n_neighbors=3, p=2,\n",
       "           weights='uniform')"
      ]
     },
     "execution_count": 79,
     "metadata": {},
     "output_type": "execute_result"
    }
   ],
   "source": [
    "from sklearn.neighbors import KNeighborsClassifier\n",
    "knn = KNeighborsClassifier(n_neighbors=3)\n",
    "knn.fit(X, y)"
   ]
  },
  {
   "cell_type": "code",
   "execution_count": 80,
   "metadata": {},
   "outputs": [],
   "source": [
    "y_pred = knn.predict(X)"
   ]
  },
  {
   "cell_type": "code",
   "execution_count": 81,
   "metadata": {},
   "outputs": [
    {
     "name": "stdout",
     "output_type": "stream",
     "text": [
      "0.8823529411764706\n"
     ]
    }
   ],
   "source": [
    "from sklearn.metrics import accuracy_score\n",
    "print(accuracy_score(y,y_pred))"
   ]
  },
  {
   "cell_type": "code",
   "execution_count": 82,
   "metadata": {},
   "outputs": [],
   "source": [
    "from sklearn.model_selection import train_test_split\n",
    "X_train, X_test, y_train, y_test = train_test_split(X,y, test_size = .25,random_state = 50)"
   ]
  },
  {
   "cell_type": "code",
   "execution_count": 83,
   "metadata": {},
   "outputs": [
    {
     "data": {
      "text/plain": [
       "KNeighborsClassifier(algorithm='auto', leaf_size=30, metric='minkowski',\n",
       "           metric_params=None, n_jobs=None, n_neighbors=3, p=2,\n",
       "           weights='uniform')"
      ]
     },
     "execution_count": 83,
     "metadata": {},
     "output_type": "execute_result"
    }
   ],
   "source": [
    "knn.fit(X_train, y_train)"
   ]
  },
  {
   "cell_type": "code",
   "execution_count": 84,
   "metadata": {},
   "outputs": [],
   "source": [
    "y_pred = knn.predict(X_test)"
   ]
  },
  {
   "cell_type": "code",
   "execution_count": 85,
   "metadata": {},
   "outputs": [
    {
     "name": "stdout",
     "output_type": "stream",
     "text": [
      "0.8\n"
     ]
    }
   ],
   "source": [
    "print(accuracy_score(y_test,y_pred))"
   ]
  },
  {
   "cell_type": "code",
   "execution_count": 86,
   "metadata": {},
   "outputs": [
    {
     "data": {
      "text/plain": [
       "7.0710678118654755"
      ]
     },
     "execution_count": 86,
     "metadata": {},
     "output_type": "execute_result"
    }
   ],
   "source": [
    "from scipy.spatial import distance\n",
    "distance.euclidean([0,0], [5,5])"
   ]
  },
  {
   "cell_type": "code",
   "execution_count": 95,
   "metadata": {},
   "outputs": [
    {
     "data": {
      "text/plain": [
       "(12, 3)"
      ]
     },
     "execution_count": 95,
     "metadata": {},
     "output_type": "execute_result"
    }
   ],
   "source": [
    "X_train.shape"
   ]
  },
  {
   "cell_type": "code",
   "execution_count": 89,
   "metadata": {},
   "outputs": [
    {
     "data": {
      "text/plain": [
       "(array([  463, 18426,   154]), array([ 201, 7808,    8]))"
      ]
     },
     "execution_count": 89,
     "metadata": {},
     "output_type": "execute_result"
    }
   ],
   "source": [
    "X_train[0], X_test[0]"
   ]
  },
  {
   "cell_type": "code",
   "execution_count": 96,
   "metadata": {},
   "outputs": [
    {
     "data": {
      "text/plain": [
       "(array([  463, 18426,   154]),\n",
       " array([103, 476, 114]),\n",
       " array([111, 675, 150]),\n",
       " array([ 304, 8701,  110]),\n",
       " array([ 120, 1544,  173]),\n",
       " array([ 147, 1990,  171]))"
      ]
     },
     "execution_count": 96,
     "metadata": {},
     "output_type": "execute_result"
    }
   ],
   "source": [
    "X_train[0], X_train[1],X_train[2], X_train[3],X_train[4],X_train[5]\n",
    "# 1. sachin , 2. B.Kumar, 3. R.Ashwin, 4. Yuvraj 5. I.Phatan, 6. R jadeja"
   ]
  },
  {
   "cell_type": "code",
   "execution_count": 99,
   "metadata": {},
   "outputs": [
    {
     "data": {
      "text/plain": [
       "(array([ 225, 3783,  253]),\n",
       " array([229, 883, 315]),\n",
       " array([ 45, 731,  44]),\n",
       " array([  308, 11363,   100]),\n",
       " array([271, 938, 334]),\n",
       " array([  222, 10533,     4]))"
      ]
     },
     "execution_count": 99,
     "metadata": {},
     "output_type": "execute_result"
    }
   ],
   "source": [
    "X_train[6], X_train[7],X_train[8], X_train[9],X_train[10],X_train[11]\n",
    "# 1. kapildev , 2. J. srinath, 3. H pandya, 4.  5. Ganguly, 6. V Kohli"
   ]
  },
  {
   "cell_type": "code",
   "execution_count": 101,
   "metadata": {},
   "outputs": [
    {
     "data": {
      "text/plain": [
       "[10622.235357964913,\n",
       " 7333.421029778667,\n",
       " 7134.980939007476,\n",
       " 904.6888968037576,\n",
       " 6266.696258795379,\n",
       " 5820.533394801545,\n",
       " 4032.5210476822062,\n",
       " 6931.858192432964,\n",
       " 7078.810705196177,\n",
       " 3557.799600876924,\n",
       " 6878.086652550984,\n",
       " 2725.083851920891]"
      ]
     },
     "execution_count": 101,
     "metadata": {},
     "output_type": "execute_result"
    }
   ],
   "source": [
    "distances = []\n",
    "for i in range(len(X_train)):\n",
    "    d = distance.euclidean(X_train[i], X_test[0])\n",
    "    distances.append(d)\n",
    "distances"
   ]
  },
  {
   "cell_type": "code",
   "execution_count": 103,
   "metadata": {},
   "outputs": [
    {
     "data": {
      "text/plain": [
       "[904.6888968037576,\n",
       " 2725.083851920891,\n",
       " 3557.799600876924,\n",
       " 4032.5210476822062,\n",
       " 5820.533394801545,\n",
       " 6266.696258795379,\n",
       " 6878.086652550984,\n",
       " 6931.858192432964,\n",
       " 7078.810705196177,\n",
       " 7134.980939007476,\n",
       " 7333.421029778667,\n",
       " 10622.235357964913]"
      ]
     },
     "execution_count": 103,
     "metadata": {},
     "output_type": "execute_result"
    }
   ],
   "source": [
    "distances.sort()\n",
    "distances"
   ]
  },
  {
   "cell_type": "code",
   "execution_count": 106,
   "metadata": {},
   "outputs": [],
   "source": [
    "y_pred = knn.predict(X_test[0].reshape(1,-1))"
   ]
  },
  {
   "cell_type": "code",
   "execution_count": 107,
   "metadata": {},
   "outputs": [
    {
     "data": {
      "text/plain": [
       "array([1])"
      ]
     },
     "execution_count": 107,
     "metadata": {},
     "output_type": "execute_result"
    }
   ],
   "source": [
    "y_pred"
   ]
  },
  {
   "cell_type": "code",
   "execution_count": 113,
   "metadata": {},
   "outputs": [
    {
     "data": {
      "text/plain": [
       "15    1\n",
       "12    1\n",
       "14    1\n",
       "3     2\n",
       "2     2\n",
       "Name: player type, dtype: int64"
      ]
     },
     "execution_count": 113,
     "metadata": {},
     "output_type": "execute_result"
    }
   ],
   "source": [
    "y_"
   ]
  },
  {
   "cell_type": "code",
   "execution_count": null,
   "metadata": {},
   "outputs": [],
   "source": []
  }
 ],
 "metadata": {
  "kernelspec": {
   "display_name": "Python 3 (ipykernel)",
   "language": "python",
   "name": "python3"
  },
  "language_info": {
   "codemirror_mode": {
    "name": "ipython",
    "version": 3
   },
   "file_extension": ".py",
   "mimetype": "text/x-python",
   "name": "python",
   "nbconvert_exporter": "python",
   "pygments_lexer": "ipython3",
   "version": "3.9.13"
  }
 },
 "nbformat": 4,
 "nbformat_minor": 2
}
