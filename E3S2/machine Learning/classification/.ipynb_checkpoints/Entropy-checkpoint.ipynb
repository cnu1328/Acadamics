{
 "cells": [
  {
   "cell_type": "markdown",
   "metadata": {},
   "source": [
    "# Entropy"
   ]
  },
  {
   "cell_type": "code",
   "execution_count": null,
   "metadata": {},
   "outputs": [],
   "source": [
    "df = pd.read_csv('Weather_modified.csv')\n",
    "from sklearn.preprocessing import LabelEncoder\n",
    "# apply Label encoder to df_categorical\n",
    "\n",
    "le = LabelEncoder()\n",
    "df = df.apply(le.fit_transform)\n",
    "df.head()\n",
    "\n",
    "df_o_p = df.iloc[:,[0,4]]\n",
    "l = []\n",
    "for x in ol_u:\n",
    "    c = 0\n",
    "    c = ol.count(x)\n",
    "    l.append(c)   \n",
    "l\n",
    "l2 = []\n",
    "for x in ol_u:\n",
    "    c_0 = 0\n",
    "    c_1 = 0\n",
    "    for i in range(0,len(df_o_p)):\n",
    "        if df_o_p.iloc[i,0] == x and df_o_p.iloc[i,1] == 0:\n",
    "            c_0 = c_0 + 1\n",
    "    c_1 = l[x]-c_0\n",
    "    l2.append((x,c_0,c_1))\n",
    "l2\n",
    "\n",
    "def my_Ent(lst):\n",
    "    print(lst)\n",
    "    return stats.entropy(lst, base=2)\n",
    "\n",
    "def Ent(data):\n",
    "    total = 0\n",
    "    for i in range(0,len(data)):\n",
    "        total = total + l[i]/sum(l)* my_Ent([data[i][1],data[i][2]])\n",
    "    return total\n",
    "Ent(l2) Temp"
   ]
  }
 ],
 "metadata": {
  "kernelspec": {
   "display_name": "Python 3",
   "language": "python",
   "name": "python3"
  },
  "language_info": {
   "codemirror_mode": {
    "name": "ipython",
    "version": 3
   },
   "file_extension": ".py",
   "mimetype": "text/x-python",
   "name": "python",
   "nbconvert_exporter": "python",
   "pygments_lexer": "ipython3",
   "version": "3.6.8"
  }
 },
 "nbformat": 4,
 "nbformat_minor": 2
}
