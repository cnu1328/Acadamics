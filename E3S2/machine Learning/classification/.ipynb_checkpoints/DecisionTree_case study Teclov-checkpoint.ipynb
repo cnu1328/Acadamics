{
 "cells": [
  {
   "cell_type": "markdown",
   "metadata": {},
   "source": [
    "### Understanding and Cleaning the Data"
   ]
  },
  {
   "cell_type": "code",
   "execution_count": 1,
   "metadata": {
    "collapsed": true
   },
   "outputs": [],
   "source": [
    "# Importing the required libraries\n",
    "import pandas as pd\n",
    "import numpy as np\n",
    "import matplotlib.pyplot as plt\n",
    "import seaborn as sns\n",
    "%matplotlib inline"
   ]
  },
  {
   "cell_type": "code",
   "execution_count": 2,
   "metadata": {
    "collapsed": true
   },
   "outputs": [],
   "source": [
    "# Reading the csv file and putting it into 'df' object.\n",
    "df = pd.read_csv('Weather_modified.csv')"
   ]
  },
  {
   "cell_type": "code",
   "execution_count": 3,
   "metadata": {
    "scrolled": true
   },
   "outputs": [
    {
     "name": "stdout",
     "output_type": "stream",
     "text": [
      "<class 'pandas.core.frame.DataFrame'>\n",
      "RangeIndex: 14 entries, 0 to 13\n",
      "Data columns (total 5 columns):\n",
      "Outlook        14 non-null object\n",
      "Temperature    14 non-null object\n",
      "Humidity       14 non-null object\n",
      "Windy          14 non-null object\n",
      "Play           14 non-null object\n",
      "dtypes: object(5)\n",
      "memory usage: 640.0+ bytes\n"
     ]
    }
   ],
   "source": [
    "# Let's understand the type of values in each column of our dataframe 'df'.\n",
    "df.info()"
   ]
  },
  {
   "cell_type": "code",
   "execution_count": 4,
   "metadata": {
    "scrolled": false
   },
   "outputs": [
    {
     "data": {
      "text/html": [
       "<div>\n",
       "<style>\n",
       "    .dataframe thead tr:only-child th {\n",
       "        text-align: right;\n",
       "    }\n",
       "\n",
       "    .dataframe thead th {\n",
       "        text-align: left;\n",
       "    }\n",
       "\n",
       "    .dataframe tbody tr th {\n",
       "        vertical-align: top;\n",
       "    }\n",
       "</style>\n",
       "<table border=\"1\" class=\"dataframe\">\n",
       "  <thead>\n",
       "    <tr style=\"text-align: right;\">\n",
       "      <th></th>\n",
       "      <th>Outlook</th>\n",
       "      <th>Temperature</th>\n",
       "      <th>Humidity</th>\n",
       "      <th>Windy</th>\n",
       "      <th>Play</th>\n",
       "    </tr>\n",
       "  </thead>\n",
       "  <tbody>\n",
       "    <tr>\n",
       "      <th>0</th>\n",
       "      <td>overcast</td>\n",
       "      <td>hot</td>\n",
       "      <td>high</td>\n",
       "      <td>FALSE</td>\n",
       "      <td>yes</td>\n",
       "    </tr>\n",
       "    <tr>\n",
       "      <th>1</th>\n",
       "      <td>overcast</td>\n",
       "      <td>cool</td>\n",
       "      <td>normal</td>\n",
       "      <td>TRUE</td>\n",
       "      <td>yes</td>\n",
       "    </tr>\n",
       "    <tr>\n",
       "      <th>2</th>\n",
       "      <td>overcast</td>\n",
       "      <td>mild</td>\n",
       "      <td>high</td>\n",
       "      <td>TRUE</td>\n",
       "      <td>yes</td>\n",
       "    </tr>\n",
       "    <tr>\n",
       "      <th>3</th>\n",
       "      <td>overcast</td>\n",
       "      <td>hot</td>\n",
       "      <td>normal</td>\n",
       "      <td>FALSE</td>\n",
       "      <td>yes</td>\n",
       "    </tr>\n",
       "    <tr>\n",
       "      <th>4</th>\n",
       "      <td>rainy</td>\n",
       "      <td>mild</td>\n",
       "      <td>high</td>\n",
       "      <td>FALSE</td>\n",
       "      <td>yes</td>\n",
       "    </tr>\n",
       "  </tbody>\n",
       "</table>\n",
       "</div>"
      ],
      "text/plain": [
       "    Outlook  Temperature Humidity  Windy  Play \n",
       "0  overcast         hot     high   FALSE   yes \n",
       "1  overcast        cool   normal    TRUE   yes \n",
       "2  overcast        mild     high    TRUE   yes \n",
       "3  overcast         hot   normal   FALSE   yes \n",
       "4     rainy        mild     high   FALSE   yes "
      ]
     },
     "execution_count": 4,
     "metadata": {},
     "output_type": "execute_result"
    }
   ],
   "source": [
    "# Let's understand the data, how it look like.\n",
    "df.head()"
   ]
  },
  {
   "cell_type": "code",
   "execution_count": 7,
   "metadata": {},
   "outputs": [
    {
     "data": {
      "text/plain": [
       "Outlook        False\n",
       "Temperature    False\n",
       "Humidity       False\n",
       "Windy          False\n",
       "Play           False\n",
       "dtype: bool"
      ]
     },
     "execution_count": 7,
     "metadata": {},
     "output_type": "execute_result"
    }
   ],
   "source": [
    "# check for missing values\n",
    "df_1 = df.isnull().any()\n",
    "df_1"
   ]
  },
  {
   "cell_type": "markdown",
   "metadata": {},
   "source": [
    "Now we can check the number of rows in df_1."
   ]
  },
  {
   "cell_type": "markdown",
   "metadata": {},
   "source": [
    "Now we have a clean dataframe which is ready for model building.<br>"
   ]
  },
  {
   "cell_type": "code",
   "execution_count": 9,
   "metadata": {
    "scrolled": true
   },
   "outputs": [
    {
     "name": "stdout",
     "output_type": "stream",
     "text": [
      "<class 'pandas.core.frame.DataFrame'>\n",
      "RangeIndex: 14 entries, 0 to 13\n",
      "Data columns (total 5 columns):\n",
      "Outlook        14 non-null object\n",
      "Temperature    14 non-null object\n",
      "Humidity       14 non-null object\n",
      "Windy          14 non-null object\n",
      "Play           14 non-null object\n",
      "dtypes: object(5)\n",
      "memory usage: 640.0+ bytes\n"
     ]
    }
   ],
   "source": [
    "# clean dataframe\n",
    "df.info()"
   ]
  },
  {
   "cell_type": "markdown",
   "metadata": {},
   "source": [
    "## Data Preparation\n",
    "\n",
    "There are a number of preprocessing steps we need to do before building the model. \n",
    "\n",
    "Firstly, note that we have both categorical and numeric features as predictors. In previous models such as linear and logistic regression, we had created **dummy variables** for categorical variables, since those models (being mathematical equations) can  process only numeric variables.\n",
    "\n",
    "All that is not required in decision trees, since they can process categorical variables easily. However, we still need to **encode the categorical variables** into a standard format so that sklearn can understand them and build the tree. We'll do that using the ```LabelEncoder()``` class, which comes with ```sklearn.preprocessing```. \n",
    "\n",
    "You can read the documentation of ```LabelEncoder``` <a href=\"http://scikit-learn.org/stable/modules/generated/sklearn.preprocessing.LabelEncoder.html\">here</a>.\n",
    "\n",
    "\n",
    "\n"
   ]
  },
  {
   "cell_type": "code",
   "execution_count": 10,
   "metadata": {},
   "outputs": [
    {
     "data": {
      "text/html": [
       "<div>\n",
       "<style>\n",
       "    .dataframe thead tr:only-child th {\n",
       "        text-align: right;\n",
       "    }\n",
       "\n",
       "    .dataframe thead th {\n",
       "        text-align: left;\n",
       "    }\n",
       "\n",
       "    .dataframe tbody tr th {\n",
       "        vertical-align: top;\n",
       "    }\n",
       "</style>\n",
       "<table border=\"1\" class=\"dataframe\">\n",
       "  <thead>\n",
       "    <tr style=\"text-align: right;\">\n",
       "      <th></th>\n",
       "      <th>Outlook</th>\n",
       "      <th>Temperature</th>\n",
       "      <th>Humidity</th>\n",
       "      <th>Windy</th>\n",
       "      <th>Play</th>\n",
       "    </tr>\n",
       "  </thead>\n",
       "  <tbody>\n",
       "    <tr>\n",
       "      <th>0</th>\n",
       "      <td>overcast</td>\n",
       "      <td>hot</td>\n",
       "      <td>high</td>\n",
       "      <td>FALSE</td>\n",
       "      <td>yes</td>\n",
       "    </tr>\n",
       "    <tr>\n",
       "      <th>1</th>\n",
       "      <td>overcast</td>\n",
       "      <td>cool</td>\n",
       "      <td>normal</td>\n",
       "      <td>TRUE</td>\n",
       "      <td>yes</td>\n",
       "    </tr>\n",
       "    <tr>\n",
       "      <th>2</th>\n",
       "      <td>overcast</td>\n",
       "      <td>mild</td>\n",
       "      <td>high</td>\n",
       "      <td>TRUE</td>\n",
       "      <td>yes</td>\n",
       "    </tr>\n",
       "    <tr>\n",
       "      <th>3</th>\n",
       "      <td>overcast</td>\n",
       "      <td>hot</td>\n",
       "      <td>normal</td>\n",
       "      <td>FALSE</td>\n",
       "      <td>yes</td>\n",
       "    </tr>\n",
       "    <tr>\n",
       "      <th>4</th>\n",
       "      <td>rainy</td>\n",
       "      <td>mild</td>\n",
       "      <td>high</td>\n",
       "      <td>FALSE</td>\n",
       "      <td>yes</td>\n",
       "    </tr>\n",
       "  </tbody>\n",
       "</table>\n",
       "</div>"
      ],
      "text/plain": [
       "    Outlook  Temperature Humidity  Windy  Play \n",
       "0  overcast         hot     high   FALSE   yes \n",
       "1  overcast        cool   normal    TRUE   yes \n",
       "2  overcast        mild     high    TRUE   yes \n",
       "3  overcast         hot   normal   FALSE   yes \n",
       "4     rainy        mild     high   FALSE   yes "
      ]
     },
     "execution_count": 10,
     "metadata": {},
     "output_type": "execute_result"
    }
   ],
   "source": [
    "from sklearn import preprocessing\n",
    "\n",
    "\n",
    "# encode categorical variables using Label Encoder\n",
    "\n",
    "# select all categorical variables\n",
    "df_categorical = df.select_dtypes(include=['object'])\n",
    "df_categorical.head()"
   ]
  },
  {
   "cell_type": "code",
   "execution_count": 11,
   "metadata": {},
   "outputs": [
    {
     "data": {
      "text/html": [
       "<div>\n",
       "<style>\n",
       "    .dataframe thead tr:only-child th {\n",
       "        text-align: right;\n",
       "    }\n",
       "\n",
       "    .dataframe thead th {\n",
       "        text-align: left;\n",
       "    }\n",
       "\n",
       "    .dataframe tbody tr th {\n",
       "        vertical-align: top;\n",
       "    }\n",
       "</style>\n",
       "<table border=\"1\" class=\"dataframe\">\n",
       "  <thead>\n",
       "    <tr style=\"text-align: right;\">\n",
       "      <th></th>\n",
       "      <th>Outlook</th>\n",
       "      <th>Temperature</th>\n",
       "      <th>Humidity</th>\n",
       "      <th>Windy</th>\n",
       "      <th>Play</th>\n",
       "    </tr>\n",
       "  </thead>\n",
       "  <tbody>\n",
       "    <tr>\n",
       "      <th>0</th>\n",
       "      <td>0</td>\n",
       "      <td>1</td>\n",
       "      <td>0</td>\n",
       "      <td>0</td>\n",
       "      <td>1</td>\n",
       "    </tr>\n",
       "    <tr>\n",
       "      <th>1</th>\n",
       "      <td>0</td>\n",
       "      <td>0</td>\n",
       "      <td>1</td>\n",
       "      <td>1</td>\n",
       "      <td>1</td>\n",
       "    </tr>\n",
       "    <tr>\n",
       "      <th>2</th>\n",
       "      <td>0</td>\n",
       "      <td>2</td>\n",
       "      <td>0</td>\n",
       "      <td>1</td>\n",
       "      <td>1</td>\n",
       "    </tr>\n",
       "    <tr>\n",
       "      <th>3</th>\n",
       "      <td>0</td>\n",
       "      <td>1</td>\n",
       "      <td>1</td>\n",
       "      <td>0</td>\n",
       "      <td>1</td>\n",
       "    </tr>\n",
       "    <tr>\n",
       "      <th>4</th>\n",
       "      <td>1</td>\n",
       "      <td>2</td>\n",
       "      <td>0</td>\n",
       "      <td>0</td>\n",
       "      <td>1</td>\n",
       "    </tr>\n",
       "  </tbody>\n",
       "</table>\n",
       "</div>"
      ],
      "text/plain": [
       "   Outlook   Temperature  Humidity  Windy   Play \n",
       "0         0            1         0       0      1\n",
       "1         0            0         1       1      1\n",
       "2         0            2         0       1      1\n",
       "3         0            1         1       0      1\n",
       "4         1            2         0       0      1"
      ]
     },
     "execution_count": 11,
     "metadata": {},
     "output_type": "execute_result"
    }
   ],
   "source": [
    "# apply Label encoder to df_categorical\n",
    "\n",
    "le = preprocessing.LabelEncoder()\n",
    "df_categorical = df_categorical.apply(le.fit_transform)\n",
    "df_categorical.head()"
   ]
  },
  {
   "cell_type": "code",
   "execution_count": 12,
   "metadata": {
    "scrolled": true
   },
   "outputs": [
    {
     "data": {
      "text/html": [
       "<div>\n",
       "<style>\n",
       "    .dataframe thead tr:only-child th {\n",
       "        text-align: right;\n",
       "    }\n",
       "\n",
       "    .dataframe thead th {\n",
       "        text-align: left;\n",
       "    }\n",
       "\n",
       "    .dataframe tbody tr th {\n",
       "        vertical-align: top;\n",
       "    }\n",
       "</style>\n",
       "<table border=\"1\" class=\"dataframe\">\n",
       "  <thead>\n",
       "    <tr style=\"text-align: right;\">\n",
       "      <th></th>\n",
       "      <th>Outlook</th>\n",
       "      <th>Temperature</th>\n",
       "      <th>Humidity</th>\n",
       "      <th>Windy</th>\n",
       "      <th>Play</th>\n",
       "    </tr>\n",
       "  </thead>\n",
       "  <tbody>\n",
       "    <tr>\n",
       "      <th>0</th>\n",
       "      <td>0</td>\n",
       "      <td>1</td>\n",
       "      <td>0</td>\n",
       "      <td>0</td>\n",
       "      <td>1</td>\n",
       "    </tr>\n",
       "    <tr>\n",
       "      <th>1</th>\n",
       "      <td>0</td>\n",
       "      <td>0</td>\n",
       "      <td>1</td>\n",
       "      <td>1</td>\n",
       "      <td>1</td>\n",
       "    </tr>\n",
       "    <tr>\n",
       "      <th>2</th>\n",
       "      <td>0</td>\n",
       "      <td>2</td>\n",
       "      <td>0</td>\n",
       "      <td>1</td>\n",
       "      <td>1</td>\n",
       "    </tr>\n",
       "    <tr>\n",
       "      <th>3</th>\n",
       "      <td>0</td>\n",
       "      <td>1</td>\n",
       "      <td>1</td>\n",
       "      <td>0</td>\n",
       "      <td>1</td>\n",
       "    </tr>\n",
       "    <tr>\n",
       "      <th>4</th>\n",
       "      <td>1</td>\n",
       "      <td>2</td>\n",
       "      <td>0</td>\n",
       "      <td>0</td>\n",
       "      <td>1</td>\n",
       "    </tr>\n",
       "  </tbody>\n",
       "</table>\n",
       "</div>"
      ],
      "text/plain": [
       "   Outlook   Temperature  Humidity  Windy   Play \n",
       "0         0            1         0       0      1\n",
       "1         0            0         1       1      1\n",
       "2         0            2         0       1      1\n",
       "3         0            1         1       0      1\n",
       "4         1            2         0       0      1"
      ]
     },
     "execution_count": 12,
     "metadata": {},
     "output_type": "execute_result"
    }
   ],
   "source": [
    "# concat df_categorical with original df\n",
    "df = df.drop(df_categorical.columns, axis=1)\n",
    "df = pd.concat([df, df_categorical], axis=1)\n",
    "df.head()"
   ]
  },
  {
   "cell_type": "code",
   "execution_count": 13,
   "metadata": {
    "scrolled": true
   },
   "outputs": [
    {
     "name": "stdout",
     "output_type": "stream",
     "text": [
      "<class 'pandas.core.frame.DataFrame'>\n",
      "RangeIndex: 14 entries, 0 to 13\n",
      "Data columns (total 5 columns):\n",
      "Outlook        14 non-null int64\n",
      "Temperature    14 non-null int64\n",
      "Humidity       14 non-null int64\n",
      "Windy          14 non-null int64\n",
      "Play           14 non-null int64\n",
      "dtypes: int64(5)\n",
      "memory usage: 640.0 bytes\n"
     ]
    }
   ],
   "source": [
    "# look at column types\n",
    "df.info()"
   ]
  },
  {
   "cell_type": "markdown",
   "metadata": {},
   "source": [
    "### Model Building and Evaluation"
   ]
  },
  {
   "cell_type": "markdown",
   "metadata": {},
   "source": [
    "Let's first build a decision tree with default hyperparameters. Then we'll use cross-validation to tune them."
   ]
  },
  {
   "cell_type": "code",
   "execution_count": 14,
   "metadata": {
    "collapsed": true
   },
   "outputs": [],
   "source": [
    "# Importing train-test-split \n",
    "from sklearn.model_selection import train_test_split"
   ]
  },
  {
   "cell_type": "code",
   "execution_count": 15,
   "metadata": {
    "collapsed": true
   },
   "outputs": [],
   "source": [
    "# prepare input X\n",
    "X = df.iloc[:,:-1]\n",
    "\n",
    "# prepare response variable to y\n",
    "y = df.iloc[:,-1]"
   ]
  },
  {
   "cell_type": "code",
   "execution_count": 16,
   "metadata": {
    "scrolled": true
   },
   "outputs": [
    {
     "data": {
      "text/html": [
       "<div>\n",
       "<style>\n",
       "    .dataframe thead tr:only-child th {\n",
       "        text-align: right;\n",
       "    }\n",
       "\n",
       "    .dataframe thead th {\n",
       "        text-align: left;\n",
       "    }\n",
       "\n",
       "    .dataframe tbody tr th {\n",
       "        vertical-align: top;\n",
       "    }\n",
       "</style>\n",
       "<table border=\"1\" class=\"dataframe\">\n",
       "  <thead>\n",
       "    <tr style=\"text-align: right;\">\n",
       "      <th></th>\n",
       "      <th>Outlook</th>\n",
       "      <th>Temperature</th>\n",
       "      <th>Humidity</th>\n",
       "      <th>Windy</th>\n",
       "    </tr>\n",
       "  </thead>\n",
       "  <tbody>\n",
       "    <tr>\n",
       "      <th>5</th>\n",
       "      <td>1</td>\n",
       "      <td>0</td>\n",
       "      <td>1</td>\n",
       "      <td>0</td>\n",
       "    </tr>\n",
       "    <tr>\n",
       "      <th>4</th>\n",
       "      <td>1</td>\n",
       "      <td>2</td>\n",
       "      <td>0</td>\n",
       "      <td>0</td>\n",
       "    </tr>\n",
       "    <tr>\n",
       "      <th>2</th>\n",
       "      <td>0</td>\n",
       "      <td>2</td>\n",
       "      <td>0</td>\n",
       "      <td>1</td>\n",
       "    </tr>\n",
       "    <tr>\n",
       "      <th>10</th>\n",
       "      <td>2</td>\n",
       "      <td>1</td>\n",
       "      <td>0</td>\n",
       "      <td>1</td>\n",
       "    </tr>\n",
       "    <tr>\n",
       "      <th>11</th>\n",
       "      <td>2</td>\n",
       "      <td>2</td>\n",
       "      <td>0</td>\n",
       "      <td>0</td>\n",
       "    </tr>\n",
       "  </tbody>\n",
       "</table>\n",
       "</div>"
      ],
      "text/plain": [
       "    Outlook   Temperature  Humidity  Windy \n",
       "5          1            0         1       0\n",
       "4          1            2         0       0\n",
       "2          0            2         0       1\n",
       "10         2            1         0       1\n",
       "11         2            2         0       0"
      ]
     },
     "execution_count": 16,
     "metadata": {},
     "output_type": "execute_result"
    }
   ],
   "source": [
    "# Splitting the data into train and test\n",
    "X_train, X_test, y_train, y_test = train_test_split(X, y, \n",
    "                                                    test_size=0.30, \n",
    "                                                    random_state = 99)\n",
    "X_train.head()"
   ]
  },
  {
   "cell_type": "code",
   "execution_count": 17,
   "metadata": {},
   "outputs": [
    {
     "data": {
      "text/plain": [
       "0     1\n",
       "1     1\n",
       "2     1\n",
       "3     1\n",
       "4     1\n",
       "5     1\n",
       "6     0\n",
       "7     1\n",
       "8     0\n",
       "9     0\n",
       "10    0\n",
       "11    0\n",
       "12    1\n",
       "13    1\n",
       "Name: Play , dtype: int64"
      ]
     },
     "execution_count": 17,
     "metadata": {},
     "output_type": "execute_result"
    }
   ],
   "source": [
    "y"
   ]
  },
  {
   "cell_type": "code",
   "execution_count": 21,
   "metadata": {},
   "outputs": [
    {
     "data": {
      "text/plain": [
       "DecisionTreeClassifier(class_weight=None, criterion='gini', max_depth=None,\n",
       "            max_features=None, max_leaf_nodes=None,\n",
       "            min_impurity_decrease=0.0, min_impurity_split=None,\n",
       "            min_samples_leaf=1, min_samples_split=2,\n",
       "            min_weight_fraction_leaf=0.0, presort=False, random_state=None,\n",
       "            splitter='best')"
      ]
     },
     "execution_count": 21,
     "metadata": {},
     "output_type": "execute_result"
    }
   ],
   "source": [
    "# Importing decision tree classifier from sklearn library\n",
    "from sklearn.tree import DecisionTreeClassifier\n",
    "\n",
    "# Fitting the decision tree with default hyperparameters, apart from\n",
    "# max_depth which is 5 so that we can plot and read the tree.\n",
    "dt_default = DecisionTreeClassifier()\n",
    "dt_default.fit(X_train, y_train)"
   ]
  },
  {
   "cell_type": "code",
   "execution_count": 22,
   "metadata": {},
   "outputs": [
    {
     "name": "stdout",
     "output_type": "stream",
     "text": [
      "             precision    recall  f1-score   support\n",
      "\n",
      "          0       0.00      0.00      0.00         1\n",
      "          1       0.67      0.50      0.57         4\n",
      "\n",
      "avg / total       0.53      0.40      0.46         5\n",
      "\n"
     ]
    }
   ],
   "source": [
    "# Let's check the evaluation metrics of our default model\n",
    "\n",
    "# Importing classification report and confusion matrix from sklearn metrics\n",
    "from sklearn.metrics import classification_report, confusion_matrix, accuracy_score\n",
    "\n",
    "# Making predictions\n",
    "y_pred_default = dt_default.predict(X_test)\n",
    "\n",
    "# Printing classification report\n",
    "print(classification_report(y_test, y_pred_default))"
   ]
  },
  {
   "cell_type": "code",
   "execution_count": 23,
   "metadata": {},
   "outputs": [
    {
     "name": "stdout",
     "output_type": "stream",
     "text": [
      "[[0 1]\n",
      " [2 2]]\n",
      "0.4\n"
     ]
    }
   ],
   "source": [
    "# Printing confusion matrix and accuracy\n",
    "print(confusion_matrix(y_test,y_pred_default))\n",
    "print(accuracy_score(y_test,y_pred_default))"
   ]
  },
  {
   "cell_type": "markdown",
   "metadata": {},
   "source": [
    "<hr>"
   ]
  },
  {
   "cell_type": "markdown",
   "metadata": {},
   "source": [
    "### Plotting the Decision Tree\n",
    "\n",
    "To visualise decision trees in python, you need to install certain external libraries. You can read about the process in detail here: http://scikit-learn.org/stable/modules/tree.html\n",
    "\n",
    "We need the ```graphviz``` library to plot a tree."
   ]
  },
  {
   "cell_type": "code",
   "execution_count": 24,
   "metadata": {},
   "outputs": [
    {
     "data": {
      "text/plain": [
       "['Temperature', 'Humidity', 'Windy ', 'Play ']"
      ]
     },
     "execution_count": 24,
     "metadata": {},
     "output_type": "execute_result"
    }
   ],
   "source": [
    "# Importing required packages for visualization\n",
    "from IPython.display import Image  \n",
    "from sklearn.externals.six import StringIO  \n",
    "from sklearn.tree import export_graphviz\n",
    "import pydotplus, graphviz\n",
    "\n",
    "# Putting features\n",
    "features = list(df.columns[1:])\n",
    "features"
   ]
  },
  {
   "cell_type": "markdown",
   "metadata": {},
   "source": [
    "**Note**:<br>\n",
    "Python requires library pydot and an external software graphviz to visualize the decision tree. If you are on wondows, you'll need to specify the path for the pydot library to access dot file from graphviz.\n",
    "\n",
    "Please read the downloadable instructions to install graphviz. For Mac users, one way is to:\n",
    "- Install the python graphviz module: ```pip install graphviz```\n",
    "- Then install the Graphviz software on Mac, you do this using homebrew:\n",
    "    - Install homebrew: https://docs.brew.sh/Installation\n",
    "    - ```brew install graphviz```"
   ]
  },
  {
   "cell_type": "code",
   "execution_count": 25,
   "metadata": {
    "collapsed": true
   },
   "outputs": [],
   "source": [
    "# If you're on windows:\n",
    "# Specifing path for dot file.\n",
    "# import os\n",
    "# os.environ[\"PATH\"] += os.pathsep + 'C:/Program Files (x86)/graphviz-2.38/release/bin/'"
   ]
  },
  {
   "cell_type": "code",
   "execution_count": 26,
   "metadata": {},
   "outputs": [
    {
     "data": {
      "image/png": "[encoded data removed]",
      "text/plain": [
       "<IPython.core.display.Image object>"
      ]
     },
     "execution_count": 26,
     "metadata": {},
     "output_type": "execute_result"
    }
   ],
   "source": [
    "# plotting tree with max_depth=3\n",
    "dot_data = StringIO()  \n",
    "export_graphviz(dt_default, out_file=dot_data,\n",
    "                feature_names=features, filled=True,rounded=True)\n",
    "\n",
    "graph = pydotplus.graph_from_dot_data(dot_data.getvalue())  \n",
    "Image(graph.create_png())"
   ]
  },
  {
   "cell_type": "markdown",
   "metadata": {},
   "source": [
    "### Hyperparameter Tuning"
   ]
  },
  {
   "cell_type": "markdown",
   "metadata": {},
   "source": [
    "The default tree is quite complex, and we need to simplify it by tuning the hyperparameters. \n",
    "\n",
    "First, let's understand the parameters in a decision tree. You can read this in the documentation using ```help(DecisionTreeClassifier)```.\n",
    "\n",
    "\n",
    "- **criterion** (Gini/IG or entropy): It defines the function to measure the quality of a split. Sklearn supports “gini” criteria for Gini Index & “entropy” for Information Gain. By default, it takes the value “gini”.\n",
    "- **splitter**: It defines the strategy to choose the split at each node. Supports “best” value to choose the best split & “random” to choose the best random split. By default, it takes “best” value.\n",
    "- **max_features**: It defines the no. of features to consider when looking for the best split. We can input integer, float, string & None value.\n",
    "    - If an integer is inputted then it considers that value as max features at each split.\n",
    "    - If float value is taken then it shows the percentage of features at each split.\n",
    "    - If “auto” or “sqrt” is taken then max_features=sqrt(n_features).\n",
    "    - If “log2” is taken then max_features= log2(n_features).\n",
    "    - If None, then max_features=n_features. By default, it takes “None” value.\n",
    "- **max_depth**: The max_depth parameter denotes maximum depth of the tree. It can take any integer value or None. If None, then nodes are expanded until all leaves are pure or until all leaves contain less than min_samples_split samples. By default, it takes “None” value.\n",
    "- **min_samples_split**: This tells above the minimum no. of samples reqd. to split an internal node. If an integer value is taken then consider min_samples_split as the minimum no. If float, then it shows percentage. By default, it takes “2” value.\n",
    "- **min_samples_leaf**: The minimum number of samples required to be at a leaf node. If an integer value is taken then consider - -min_samples_leaf as the minimum no. If float, then it shows percentage. By default, it takes “1” value.\n",
    "- **max_leaf_nodes**: It defines the maximum number of possible leaf nodes. If None then it takes an unlimited number of leaf nodes. By default, it takes “None” value.\n",
    "- **min_impurity_split**: It defines the threshold for early stopping tree growth. A node will split if its impurity is above the threshold otherwise it is a leaf.<br>\n",
    "\n"
   ]
  },
  {
   "cell_type": "markdown",
   "metadata": {},
   "source": [
    "<hr>"
   ]
  },
  {
   "cell_type": "markdown",
   "metadata": {},
   "source": [
    "### Tuning max_depth"
   ]
  },
  {
   "cell_type": "markdown",
   "metadata": {},
   "source": [
    "Let's first try to find the optimum values for max_depth and understand how the value of max_depth affects the decision tree."
   ]
  },
  {
   "cell_type": "markdown",
   "metadata": {},
   "source": [
    "Here, we are creating a dataframe with max_depth in range 1 to 80 and checking the accuracy score corresponding to each max_depth. \n",
    "\n",
    "To reiterate, a grid search scheme consists of:\n",
    "\n",
    "    - an estimator (classifier such as SVC() or decision tree)\n",
    "    - a parameter space\n",
    "    - a method for searching or sampling candidates (optional) \n",
    "    - a cross-validation scheme, and\n",
    "    - a score function (accuracy, roc_auc etc.)"
   ]
  },
  {
   "cell_type": "code",
   "execution_count": 27,
   "metadata": {},
   "outputs": [
    {
     "name": "stderr",
     "output_type": "stream",
     "text": [
      "/home/laxmi/anaconda3/lib/python3.6/site-packages/sklearn/model_selection/_split.py:605: Warning: The least populated class in y has only 4 members, which is too few. The minimum number of members in any class cannot be less than n_splits=5.\n",
      "  % (min_groups, self.n_splits)), Warning)\n"
     ]
    },
    {
     "data": {
      "text/plain": [
       "GridSearchCV(cv=5, error_score='raise',\n",
       "       estimator=DecisionTreeClassifier(class_weight=None, criterion='gini', max_depth=None,\n",
       "            max_features=None, max_leaf_nodes=None,\n",
       "            min_impurity_decrease=0.0, min_impurity_split=None,\n",
       "            min_samples_leaf=1, min_samples_split=2,\n",
       "            min_weight_fraction_leaf=0.0, presort=False, random_state=100,\n",
       "            splitter='best'),\n",
       "       fit_params=None, iid=True, n_jobs=1,\n",
       "       param_grid={'max_depth': range(1, 4)}, pre_dispatch='2*n_jobs',\n",
       "       refit=True, return_train_score='warn', scoring='accuracy',\n",
       "       verbose=0)"
      ]
     },
     "execution_count": 27,
     "metadata": {},
     "output_type": "execute_result"
    }
   ],
   "source": [
    "# GridSearchCV to find optimal max_depth\n",
    "from sklearn.model_selection import KFold\n",
    "from sklearn.model_selection import GridSearchCV\n",
    "\n",
    "\n",
    "# specify number of folds for k-fold CV\n",
    "n_folds = 5\n",
    "\n",
    "# parameters to build the model on\n",
    "parameters = {'max_depth': range(1, 6)}\n",
    "\n",
    "# instantiate the model\n",
    "dtree = DecisionTreeClassifier(criterion = \"gini\", \n",
    "                               random_state = 100)\n",
    "\n",
    "# fit tree on training data\n",
    "tree = GridSearchCV(dtree, parameters, \n",
    "                    cv=n_folds, \n",
    "                   scoring=\"accuracy\")\n",
    "tree.fit(X_train, y_train)"
   ]
  },
  {
   "cell_type": "code",
   "execution_count": 28,
   "metadata": {},
   "outputs": [
    {
     "name": "stderr",
     "output_type": "stream",
     "text": [
      "/home/laxmi/anaconda3/lib/python3.6/site-packages/sklearn/utils/deprecation.py:122: FutureWarning: You are accessing a training score ('mean_train_score'), which will not be available by default any more in 0.21. If you need training scores, please set return_train_score=True\n",
      "  warnings.warn(*warn_args, **warn_kwargs)\n",
      "/home/laxmi/anaconda3/lib/python3.6/site-packages/sklearn/utils/deprecation.py:122: FutureWarning: You are accessing a training score ('split0_train_score'), which will not be available by default any more in 0.21. If you need training scores, please set return_train_score=True\n",
      "  warnings.warn(*warn_args, **warn_kwargs)\n",
      "/home/laxmi/anaconda3/lib/python3.6/site-packages/sklearn/utils/deprecation.py:122: FutureWarning: You are accessing a training score ('split1_train_score'), which will not be available by default any more in 0.21. If you need training scores, please set return_train_score=True\n",
      "  warnings.warn(*warn_args, **warn_kwargs)\n",
      "/home/laxmi/anaconda3/lib/python3.6/site-packages/sklearn/utils/deprecation.py:122: FutureWarning: You are accessing a training score ('split2_train_score'), which will not be available by default any more in 0.21. If you need training scores, please set return_train_score=True\n",
      "  warnings.warn(*warn_args, **warn_kwargs)\n",
      "/home/laxmi/anaconda3/lib/python3.6/site-packages/sklearn/utils/deprecation.py:122: FutureWarning: You are accessing a training score ('split3_train_score'), which will not be available by default any more in 0.21. If you need training scores, please set return_train_score=True\n",
      "  warnings.warn(*warn_args, **warn_kwargs)\n",
      "/home/laxmi/anaconda3/lib/python3.6/site-packages/sklearn/utils/deprecation.py:122: FutureWarning: You are accessing a training score ('split4_train_score'), which will not be available by default any more in 0.21. If you need training scores, please set return_train_score=True\n",
      "  warnings.warn(*warn_args, **warn_kwargs)\n",
      "/home/laxmi/anaconda3/lib/python3.6/site-packages/sklearn/utils/deprecation.py:122: FutureWarning: You are accessing a training score ('std_train_score'), which will not be available by default any more in 0.21. If you need training scores, please set return_train_score=True\n",
      "  warnings.warn(*warn_args, **warn_kwargs)\n"
     ]
    },
    {
     "data": {
      "text/html": [
       "<div>\n",
       "<style>\n",
       "    .dataframe thead tr:only-child th {\n",
       "        text-align: right;\n",
       "    }\n",
       "\n",
       "    .dataframe thead th {\n",
       "        text-align: left;\n",
       "    }\n",
       "\n",
       "    .dataframe tbody tr th {\n",
       "        vertical-align: top;\n",
       "    }\n",
       "</style>\n",
       "<table border=\"1\" class=\"dataframe\">\n",
       "  <thead>\n",
       "    <tr style=\"text-align: right;\">\n",
       "      <th></th>\n",
       "      <th>mean_fit_time</th>\n",
       "      <th>mean_score_time</th>\n",
       "      <th>mean_test_score</th>\n",
       "      <th>mean_train_score</th>\n",
       "      <th>param_max_depth</th>\n",
       "      <th>params</th>\n",
       "      <th>rank_test_score</th>\n",
       "      <th>split0_test_score</th>\n",
       "      <th>split0_train_score</th>\n",
       "      <th>split1_test_score</th>\n",
       "      <th>...</th>\n",
       "      <th>split2_test_score</th>\n",
       "      <th>split2_train_score</th>\n",
       "      <th>split3_test_score</th>\n",
       "      <th>split3_train_score</th>\n",
       "      <th>split4_test_score</th>\n",
       "      <th>split4_train_score</th>\n",
       "      <th>std_fit_time</th>\n",
       "      <th>std_score_time</th>\n",
       "      <th>std_test_score</th>\n",
       "      <th>std_train_score</th>\n",
       "    </tr>\n",
       "  </thead>\n",
       "  <tbody>\n",
       "    <tr>\n",
       "      <th>0</th>\n",
       "      <td>0.001004</td>\n",
       "      <td>0.000297</td>\n",
       "      <td>0.666667</td>\n",
       "      <td>0.889286</td>\n",
       "      <td>1</td>\n",
       "      <td>{'max_depth': 1}</td>\n",
       "      <td>2</td>\n",
       "      <td>0.5</td>\n",
       "      <td>0.857143</td>\n",
       "      <td>0.5</td>\n",
       "      <td>...</td>\n",
       "      <td>0.5</td>\n",
       "      <td>1.0</td>\n",
       "      <td>1.0</td>\n",
       "      <td>0.857143</td>\n",
       "      <td>1.0</td>\n",
       "      <td>0.875</td>\n",
       "      <td>0.000271</td>\n",
       "      <td>0.000049</td>\n",
       "      <td>0.235702</td>\n",
       "      <td>0.055787</td>\n",
       "    </tr>\n",
       "    <tr>\n",
       "      <th>1</th>\n",
       "      <td>0.000838</td>\n",
       "      <td>0.000285</td>\n",
       "      <td>0.555556</td>\n",
       "      <td>0.917857</td>\n",
       "      <td>2</td>\n",
       "      <td>{'max_depth': 2}</td>\n",
       "      <td>3</td>\n",
       "      <td>0.5</td>\n",
       "      <td>0.857143</td>\n",
       "      <td>0.5</td>\n",
       "      <td>...</td>\n",
       "      <td>0.5</td>\n",
       "      <td>1.0</td>\n",
       "      <td>1.0</td>\n",
       "      <td>0.857143</td>\n",
       "      <td>0.0</td>\n",
       "      <td>0.875</td>\n",
       "      <td>0.000019</td>\n",
       "      <td>0.000012</td>\n",
       "      <td>0.283279</td>\n",
       "      <td>0.067386</td>\n",
       "    </tr>\n",
       "    <tr>\n",
       "      <th>2</th>\n",
       "      <td>0.000826</td>\n",
       "      <td>0.000268</td>\n",
       "      <td>0.777778</td>\n",
       "      <td>1.000000</td>\n",
       "      <td>3</td>\n",
       "      <td>{'max_depth': 3}</td>\n",
       "      <td>1</td>\n",
       "      <td>1.0</td>\n",
       "      <td>1.000000</td>\n",
       "      <td>0.5</td>\n",
       "      <td>...</td>\n",
       "      <td>0.5</td>\n",
       "      <td>1.0</td>\n",
       "      <td>1.0</td>\n",
       "      <td>1.000000</td>\n",
       "      <td>1.0</td>\n",
       "      <td>1.000</td>\n",
       "      <td>0.000040</td>\n",
       "      <td>0.000006</td>\n",
       "      <td>0.248452</td>\n",
       "      <td>0.000000</td>\n",
       "    </tr>\n",
       "  </tbody>\n",
       "</table>\n",
       "<p>3 rows × 21 columns</p>\n",
       "</div>"
      ],
      "text/plain": [
       "   mean_fit_time  mean_score_time  mean_test_score  mean_train_score  \\\n",
       "0       0.001004         0.000297         0.666667          0.889286   \n",
       "1       0.000838         0.000285         0.555556          0.917857   \n",
       "2       0.000826         0.000268         0.777778          1.000000   \n",
       "\n",
       "  param_max_depth            params  rank_test_score  split0_test_score  \\\n",
       "0               1  {'max_depth': 1}                2                0.5   \n",
       "1               2  {'max_depth': 2}                3                0.5   \n",
       "2               3  {'max_depth': 3}                1                1.0   \n",
       "\n",
       "   split0_train_score  split1_test_score       ...         split2_test_score  \\\n",
       "0            0.857143                0.5       ...                       0.5   \n",
       "1            0.857143                0.5       ...                       0.5   \n",
       "2            1.000000                0.5       ...                       0.5   \n",
       "\n",
       "   split2_train_score  split3_test_score  split3_train_score  \\\n",
       "0                 1.0                1.0            0.857143   \n",
       "1                 1.0                1.0            0.857143   \n",
       "2                 1.0                1.0            1.000000   \n",
       "\n",
       "   split4_test_score  split4_train_score  std_fit_time  std_score_time  \\\n",
       "0                1.0               0.875      0.000271        0.000049   \n",
       "1                0.0               0.875      0.000019        0.000012   \n",
       "2                1.0               1.000      0.000040        0.000006   \n",
       "\n",
       "   std_test_score  std_train_score  \n",
       "0        0.235702         0.055787  \n",
       "1        0.283279         0.067386  \n",
       "2        0.248452         0.000000  \n",
       "\n",
       "[3 rows x 21 columns]"
      ]
     },
     "execution_count": 28,
     "metadata": {},
     "output_type": "execute_result"
    }
   ],
   "source": [
    "# scores of GridSearch CV\n",
    "scores = tree.cv_results_\n",
    "pd.DataFrame(scores).head()"
   ]
  },
  {
   "cell_type": "markdown",
   "metadata": {},
   "source": [
    "Now let's visualize how train and test score changes with max_depth."
   ]
  },
  {
   "cell_type": "code",
   "execution_count": 29,
   "metadata": {},
   "outputs": [
    {
     "name": "stderr",
     "output_type": "stream",
     "text": [
      "/home/laxmi/anaconda3/lib/python3.6/site-packages/sklearn/utils/deprecation.py:122: FutureWarning: You are accessing a training score ('mean_train_score'), which will not be available by default any more in 0.21. If you need training scores, please set return_train_score=True\n",
      "  warnings.warn(*warn_args, **warn_kwargs)\n"
     ]
    },
    {
     "data": {
      "image/png": "[encoded data removed]",
      "text/plain": [
       "<matplotlib.figure.Figure at 0x7f5439f00b70>"
      ]
     },
     "metadata": {},
     "output_type": "display_data"
    }
   ],
   "source": [
    "# plotting accuracies with max_depth\n",
    "plt.figure()\n",
    "plt.plot(scores[\"param_max_depth\"], \n",
    "         scores[\"mean_train_score\"], \n",
    "         label=\"training accuracy\")\n",
    "plt.plot(scores[\"param_max_depth\"], \n",
    "         scores[\"mean_test_score\"], \n",
    "         label=\"test accuracy\")\n",
    "plt.xlabel(\"max_depth\")\n",
    "plt.ylabel(\"Accuracy\")\n",
    "plt.legend()\n",
    "plt.show()\n"
   ]
  },
  {
   "cell_type": "markdown",
   "metadata": {},
   "source": [
    "You can see that as we increase the value of max_depth, both training and test score increase till about max-depth = 10, after which the test score gradually reduces. Note that the scores are average accuracies across the 5-folds. "
   ]
  },
  {
   "cell_type": "markdown",
   "metadata": {},
   "source": [
    "Thus, it is clear that the model is overfitting the training data if the max_depth is too high. Next, let's see how the model behaves with other hyperparameters."
   ]
  },
  {
   "cell_type": "markdown",
   "metadata": {},
   "source": [
    "<hr>"
   ]
  },
  {
   "cell_type": "markdown",
   "metadata": {},
   "source": [
    "### Tuning min_samples_leaf"
   ]
  },
  {
   "cell_type": "markdown",
   "metadata": {},
   "source": [
    "The hyperparameter **min_samples_leaf** indicates the minimum number of samples required to be at a leaf.<br>\n",
    "\n",
    "So if the values of min_samples_leaf is less, say 5, then the will be constructed even if a leaf has 5, 6 etc. observations (and is likely to overfit).<br>\n",
    "\n",
    "Let's see what will be the optimum value for min_samples_leaf."
   ]
  },
  {
   "cell_type": "code",
   "execution_count": 35,
   "metadata": {},
   "outputs": [
    {
     "data": {
      "text/plain": [
       "GridSearchCV(cv=5, error_score='raise',\n",
       "       estimator=DecisionTreeClassifier(class_weight=None, criterion='gini', max_depth=None,\n",
       "            max_features=None, max_leaf_nodes=None,\n",
       "            min_impurity_decrease=0.0, min_impurity_split=None,\n",
       "            min_samples_leaf=1, min_samples_split=2,\n",
       "            min_weight_fraction_leaf=0.0, presort=False, random_state=100,\n",
       "            splitter='best'),\n",
       "       fit_params=None, iid=True, n_jobs=1,\n",
       "       param_grid={'min_samples_leaf': range(5, 200, 20)},\n",
       "       pre_dispatch='2*n_jobs', refit=True, return_train_score='warn',\n",
       "       scoring='accuracy', verbose=0)"
      ]
     },
     "execution_count": 35,
     "metadata": {},
     "output_type": "execute_result"
    }
   ],
   "source": [
    "# GridSearchCV to find optimal max_depth\n",
    "from sklearn.model_selection import KFold\n",
    "from sklearn.model_selection import GridSearchCV\n",
    "\n",
    "\n",
    "# specify number of folds for k-fold CV\n",
    "n_folds = 5\n",
    "\n",
    "# parameters to build the model on\n",
    "parameters = {'min_samples_leaf': range(5, 200, 20)}\n",
    "\n",
    "# instantiate the model\n",
    "dtree = DecisionTreeClassifier(criterion = \"gini\", \n",
    "                               random_state = 100)\n",
    "\n",
    "# fit tree on training data\n",
    "tree = GridSearchCV(dtree, parameters, \n",
    "                    cv=n_folds, \n",
    "                   scoring=\"accuracy\")\n",
    "tree.fit(X_train, y_train)"
   ]
  },
  {
   "cell_type": "code",
   "execution_count": 36,
   "metadata": {
    "scrolled": true
   },
   "outputs": [
    {
     "data": {
      "text/html": [
       "<div>\n",
       "<style>\n",
       "    .dataframe thead tr:only-child th {\n",
       "        text-align: right;\n",
       "    }\n",
       "\n",
       "    .dataframe thead th {\n",
       "        text-align: left;\n",
       "    }\n",
       "\n",
       "    .dataframe tbody tr th {\n",
       "        vertical-align: top;\n",
       "    }\n",
       "</style>\n",
       "<table border=\"1\" class=\"dataframe\">\n",
       "  <thead>\n",
       "    <tr style=\"text-align: right;\">\n",
       "      <th></th>\n",
       "      <th>mean_fit_time</th>\n",
       "      <th>mean_score_time</th>\n",
       "      <th>mean_test_score</th>\n",
       "      <th>mean_train_score</th>\n",
       "      <th>param_min_samples_leaf</th>\n",
       "      <th>params</th>\n",
       "      <th>rank_test_score</th>\n",
       "      <th>split0_test_score</th>\n",
       "      <th>split0_train_score</th>\n",
       "      <th>split1_test_score</th>\n",
       "      <th>...</th>\n",
       "      <th>split2_test_score</th>\n",
       "      <th>split2_train_score</th>\n",
       "      <th>split3_test_score</th>\n",
       "      <th>split3_train_score</th>\n",
       "      <th>split4_test_score</th>\n",
       "      <th>split4_train_score</th>\n",
       "      <th>std_fit_time</th>\n",
       "      <th>std_score_time</th>\n",
       "      <th>std_test_score</th>\n",
       "      <th>std_train_score</th>\n",
       "    </tr>\n",
       "  </thead>\n",
       "  <tbody>\n",
       "    <tr>\n",
       "      <th>0</th>\n",
       "      <td>0.076005</td>\n",
       "      <td>0.001773</td>\n",
       "      <td>0.823663</td>\n",
       "      <td>0.913785</td>\n",
       "      <td>5</td>\n",
       "      <td>{'min_samples_leaf': 5}</td>\n",
       "      <td>10</td>\n",
       "      <td>0.826705</td>\n",
       "      <td>0.915566</td>\n",
       "      <td>0.827137</td>\n",
       "      <td>...</td>\n",
       "      <td>0.819517</td>\n",
       "      <td>0.915340</td>\n",
       "      <td>0.826149</td>\n",
       "      <td>0.912083</td>\n",
       "      <td>0.818806</td>\n",
       "      <td>0.913149</td>\n",
       "      <td>0.008115</td>\n",
       "      <td>0.000061</td>\n",
       "      <td>0.003695</td>\n",
       "      <td>0.001406</td>\n",
       "    </tr>\n",
       "    <tr>\n",
       "      <th>1</th>\n",
       "      <td>0.060841</td>\n",
       "      <td>0.001596</td>\n",
       "      <td>0.844172</td>\n",
       "      <td>0.869180</td>\n",
       "      <td>25</td>\n",
       "      <td>{'min_samples_leaf': 25}</td>\n",
       "      <td>6</td>\n",
       "      <td>0.840672</td>\n",
       "      <td>0.867902</td>\n",
       "      <td>0.849396</td>\n",
       "      <td>...</td>\n",
       "      <td>0.839413</td>\n",
       "      <td>0.871233</td>\n",
       "      <td>0.842018</td>\n",
       "      <td>0.867503</td>\n",
       "      <td>0.849360</td>\n",
       "      <td>0.869872</td>\n",
       "      <td>0.001264</td>\n",
       "      <td>0.000035</td>\n",
       "      <td>0.004330</td>\n",
       "      <td>0.001355</td>\n",
       "    </tr>\n",
       "    <tr>\n",
       "      <th>2</th>\n",
       "      <td>0.054266</td>\n",
       "      <td>0.001584</td>\n",
       "      <td>0.848529</td>\n",
       "      <td>0.861554</td>\n",
       "      <td>45</td>\n",
       "      <td>{'min_samples_leaf': 45}</td>\n",
       "      <td>1</td>\n",
       "      <td>0.842803</td>\n",
       "      <td>0.861034</td>\n",
       "      <td>0.850580</td>\n",
       "      <td>...</td>\n",
       "      <td>0.846518</td>\n",
       "      <td>0.862590</td>\n",
       "      <td>0.851018</td>\n",
       "      <td>0.860399</td>\n",
       "      <td>0.851729</td>\n",
       "      <td>0.863714</td>\n",
       "      <td>0.001238</td>\n",
       "      <td>0.000042</td>\n",
       "      <td>0.003391</td>\n",
       "      <td>0.001389</td>\n",
       "    </tr>\n",
       "    <tr>\n",
       "      <th>3</th>\n",
       "      <td>0.051226</td>\n",
       "      <td>0.001510</td>\n",
       "      <td>0.846114</td>\n",
       "      <td>0.857067</td>\n",
       "      <td>65</td>\n",
       "      <td>{'min_samples_leaf': 65}</td>\n",
       "      <td>2</td>\n",
       "      <td>0.840909</td>\n",
       "      <td>0.857600</td>\n",
       "      <td>0.854369</td>\n",
       "      <td>...</td>\n",
       "      <td>0.845334</td>\n",
       "      <td>0.858564</td>\n",
       "      <td>0.851492</td>\n",
       "      <td>0.855189</td>\n",
       "      <td>0.838465</td>\n",
       "      <td>0.858149</td>\n",
       "      <td>0.000997</td>\n",
       "      <td>0.000022</td>\n",
       "      <td>0.006054</td>\n",
       "      <td>0.001323</td>\n",
       "    </tr>\n",
       "    <tr>\n",
       "      <th>4</th>\n",
       "      <td>0.050028</td>\n",
       "      <td>0.001512</td>\n",
       "      <td>0.845451</td>\n",
       "      <td>0.854320</td>\n",
       "      <td>85</td>\n",
       "      <td>{'min_samples_leaf': 85}</td>\n",
       "      <td>4</td>\n",
       "      <td>0.837831</td>\n",
       "      <td>0.853159</td>\n",
       "      <td>0.850580</td>\n",
       "      <td>...</td>\n",
       "      <td>0.845334</td>\n",
       "      <td>0.855663</td>\n",
       "      <td>0.851492</td>\n",
       "      <td>0.854005</td>\n",
       "      <td>0.842018</td>\n",
       "      <td>0.854597</td>\n",
       "      <td>0.001952</td>\n",
       "      <td>0.000019</td>\n",
       "      <td>0.005151</td>\n",
       "      <td>0.000818</td>\n",
       "    </tr>\n",
       "  </tbody>\n",
       "</table>\n",
       "<p>5 rows × 21 columns</p>\n",
       "</div>"
      ],
      "text/plain": [
       "   mean_fit_time  mean_score_time  mean_test_score  mean_train_score  \\\n",
       "0       0.076005         0.001773         0.823663          0.913785   \n",
       "1       0.060841         0.001596         0.844172          0.869180   \n",
       "2       0.054266         0.001584         0.848529          0.861554   \n",
       "3       0.051226         0.001510         0.846114          0.857067   \n",
       "4       0.050028         0.001512         0.845451          0.854320   \n",
       "\n",
       "  param_min_samples_leaf                    params  rank_test_score  \\\n",
       "0                      5   {'min_samples_leaf': 5}               10   \n",
       "1                     25  {'min_samples_leaf': 25}                6   \n",
       "2                     45  {'min_samples_leaf': 45}                1   \n",
       "3                     65  {'min_samples_leaf': 65}                2   \n",
       "4                     85  {'min_samples_leaf': 85}                4   \n",
       "\n",
       "   split0_test_score  split0_train_score  split1_test_score       ...         \\\n",
       "0           0.826705            0.915566           0.827137       ...          \n",
       "1           0.840672            0.867902           0.849396       ...          \n",
       "2           0.842803            0.861034           0.850580       ...          \n",
       "3           0.840909            0.857600           0.854369       ...          \n",
       "4           0.837831            0.853159           0.850580       ...          \n",
       "\n",
       "   split2_test_score  split2_train_score  split3_test_score  \\\n",
       "0           0.819517            0.915340           0.826149   \n",
       "1           0.839413            0.871233           0.842018   \n",
       "2           0.846518            0.862590           0.851018   \n",
       "3           0.845334            0.858564           0.851492   \n",
       "4           0.845334            0.855663           0.851492   \n",
       "\n",
       "   split3_train_score  split4_test_score  split4_train_score  std_fit_time  \\\n",
       "0            0.912083           0.818806            0.913149      0.008115   \n",
       "1            0.867503           0.849360            0.869872      0.001264   \n",
       "2            0.860399           0.851729            0.863714      0.001238   \n",
       "3            0.855189           0.838465            0.858149      0.000997   \n",
       "4            0.854005           0.842018            0.854597      0.001952   \n",
       "\n",
       "   std_score_time  std_test_score  std_train_score  \n",
       "0        0.000061        0.003695         0.001406  \n",
       "1        0.000035        0.004330         0.001355  \n",
       "2        0.000042        0.003391         0.001389  \n",
       "3        0.000022        0.006054         0.001323  \n",
       "4        0.000019        0.005151         0.000818  \n",
       "\n",
       "[5 rows x 21 columns]"
      ]
     },
     "execution_count": 36,
     "metadata": {},
     "output_type": "execute_result"
    }
   ],
   "source": [
    "# scores of GridSearch CV\n",
    "scores = tree.cv_results_\n",
    "pd.DataFrame(scores).head()"
   ]
  },
  {
   "cell_type": "code",
   "execution_count": 37,
   "metadata": {},
   "outputs": [
    {
     "data": {
      "image/png": "[encoded data removed]",
      "text/plain": [
       "<matplotlib.figure.Figure at 0x7ff5bfd040f0>"
      ]
     },
     "metadata": {},
     "output_type": "display_data"
    }
   ],
   "source": [
    "# plotting accuracies with min_samples_leaf\n",
    "plt.figure()\n",
    "plt.plot(scores[\"param_min_samples_leaf\"], \n",
    "         scores[\"mean_train_score\"], \n",
    "         label=\"training accuracy\")\n",
    "plt.plot(scores[\"param_min_samples_leaf\"], \n",
    "         scores[\"mean_test_score\"], \n",
    "         label=\"test accuracy\")\n",
    "plt.xlabel(\"min_samples_leaf\")\n",
    "plt.ylabel(\"Accuracy\")\n",
    "plt.legend()\n",
    "plt.show()\n"
   ]
  },
  {
   "cell_type": "markdown",
   "metadata": {},
   "source": [
    "You can see that at low values of min_samples_leaf, the tree gets a bit overfitted. At values > 100, however, the model becomes more stable and the training and test accuracy start to converge."
   ]
  },
  {
   "cell_type": "markdown",
   "metadata": {},
   "source": [
    "<hr>"
   ]
  },
  {
   "cell_type": "markdown",
   "metadata": {},
   "source": [
    "### Tuning min_samples_split"
   ]
  },
  {
   "cell_type": "markdown",
   "metadata": {},
   "source": [
    "The hyperparameter **min_samples_split** is the minimum no. of samples required to split an internal node. Its default value is 2, which means that even if a node is having 2 samples it can be furthur divided into leaf nodes."
   ]
  },
  {
   "cell_type": "code",
   "execution_count": 38,
   "metadata": {},
   "outputs": [
    {
     "data": {
      "text/plain": [
       "GridSearchCV(cv=5, error_score='raise',\n",
       "       estimator=DecisionTreeClassifier(class_weight=None, criterion='gini', max_depth=None,\n",
       "            max_features=None, max_leaf_nodes=None,\n",
       "            min_impurity_decrease=0.0, min_impurity_split=None,\n",
       "            min_samples_leaf=1, min_samples_split=2,\n",
       "            min_weight_fraction_leaf=0.0, presort=False, random_state=100,\n",
       "            splitter='best'),\n",
       "       fit_params=None, iid=True, n_jobs=1,\n",
       "       param_grid={'min_samples_split': range(5, 200, 20)},\n",
       "       pre_dispatch='2*n_jobs', refit=True, return_train_score='warn',\n",
       "       scoring='accuracy', verbose=0)"
      ]
     },
     "execution_count": 38,
     "metadata": {},
     "output_type": "execute_result"
    }
   ],
   "source": [
    "# GridSearchCV to find optimal min_samples_split\n",
    "from sklearn.model_selection import KFold\n",
    "from sklearn.model_selection import GridSearchCV\n",
    "\n",
    "\n",
    "# specify number of folds for k-fold CV\n",
    "n_folds = 5\n",
    "\n",
    "# parameters to build the model on\n",
    "parameters = {'min_samples_split': range(5, 200, 20)}\n",
    "\n",
    "# instantiate the model\n",
    "dtree = DecisionTreeClassifier(criterion = \"gini\", \n",
    "                               random_state = 100)\n",
    "\n",
    "# fit tree on training data\n",
    "tree = GridSearchCV(dtree, parameters, \n",
    "                    cv=n_folds, \n",
    "                   scoring=\"accuracy\")\n",
    "tree.fit(X_train, y_train)"
   ]
  },
  {
   "cell_type": "code",
   "execution_count": 39,
   "metadata": {},
   "outputs": [
    {
     "data": {
      "text/html": [
       "<div>\n",
       "<style>\n",
       "    .dataframe thead tr:only-child th {\n",
       "        text-align: right;\n",
       "    }\n",
       "\n",
       "    .dataframe thead th {\n",
       "        text-align: left;\n",
       "    }\n",
       "\n",
       "    .dataframe tbody tr th {\n",
       "        vertical-align: top;\n",
       "    }\n",
       "</style>\n",
       "<table border=\"1\" class=\"dataframe\">\n",
       "  <thead>\n",
       "    <tr style=\"text-align: right;\">\n",
       "      <th></th>\n",
       "      <th>mean_fit_time</th>\n",
       "      <th>mean_score_time</th>\n",
       "      <th>mean_test_score</th>\n",
       "      <th>mean_train_score</th>\n",
       "      <th>param_min_samples_split</th>\n",
       "      <th>params</th>\n",
       "      <th>rank_test_score</th>\n",
       "      <th>split0_test_score</th>\n",
       "      <th>split0_train_score</th>\n",
       "      <th>split1_test_score</th>\n",
       "      <th>...</th>\n",
       "      <th>split2_test_score</th>\n",
       "      <th>split2_train_score</th>\n",
       "      <th>split3_test_score</th>\n",
       "      <th>split3_train_score</th>\n",
       "      <th>split4_test_score</th>\n",
       "      <th>split4_train_score</th>\n",
       "      <th>std_fit_time</th>\n",
       "      <th>std_score_time</th>\n",
       "      <th>std_test_score</th>\n",
       "      <th>std_train_score</th>\n",
       "    </tr>\n",
       "  </thead>\n",
       "  <tbody>\n",
       "    <tr>\n",
       "      <th>0</th>\n",
       "      <td>0.081951</td>\n",
       "      <td>0.001942</td>\n",
       "      <td>0.811775</td>\n",
       "      <td>0.969865</td>\n",
       "      <td>5</td>\n",
       "      <td>{'min_samples_split': 5}</td>\n",
       "      <td>10</td>\n",
       "      <td>0.808949</td>\n",
       "      <td>0.969270</td>\n",
       "      <td>0.811508</td>\n",
       "      <td>...</td>\n",
       "      <td>0.818333</td>\n",
       "      <td>0.969510</td>\n",
       "      <td>0.811701</td>\n",
       "      <td>0.970458</td>\n",
       "      <td>0.808385</td>\n",
       "      <td>0.971227</td>\n",
       "      <td>0.006653</td>\n",
       "      <td>0.000164</td>\n",
       "      <td>0.003537</td>\n",
       "      <td>0.000861</td>\n",
       "    </tr>\n",
       "    <tr>\n",
       "      <th>1</th>\n",
       "      <td>0.073159</td>\n",
       "      <td>0.001750</td>\n",
       "      <td>0.826742</td>\n",
       "      <td>0.907569</td>\n",
       "      <td>25</td>\n",
       "      <td>{'min_samples_split': 25}</td>\n",
       "      <td>9</td>\n",
       "      <td>0.824574</td>\n",
       "      <td>0.907336</td>\n",
       "      <td>0.828795</td>\n",
       "      <td>...</td>\n",
       "      <td>0.830175</td>\n",
       "      <td>0.906992</td>\n",
       "      <td>0.822596</td>\n",
       "      <td>0.906577</td>\n",
       "      <td>0.827570</td>\n",
       "      <td>0.911847</td>\n",
       "      <td>0.000859</td>\n",
       "      <td>0.000028</td>\n",
       "      <td>0.002778</td>\n",
       "      <td>0.002272</td>\n",
       "    </tr>\n",
       "    <tr>\n",
       "      <th>2</th>\n",
       "      <td>0.069648</td>\n",
       "      <td>0.001656</td>\n",
       "      <td>0.834841</td>\n",
       "      <td>0.891062</td>\n",
       "      <td>45</td>\n",
       "      <td>{'min_samples_split': 45}</td>\n",
       "      <td>8</td>\n",
       "      <td>0.837358</td>\n",
       "      <td>0.891290</td>\n",
       "      <td>0.840635</td>\n",
       "      <td>...</td>\n",
       "      <td>0.830175</td>\n",
       "      <td>0.889823</td>\n",
       "      <td>0.827333</td>\n",
       "      <td>0.888521</td>\n",
       "      <td>0.838702</td>\n",
       "      <td>0.896335</td>\n",
       "      <td>0.000668</td>\n",
       "      <td>0.000028</td>\n",
       "      <td>0.005156</td>\n",
       "      <td>0.002786</td>\n",
       "    </tr>\n",
       "    <tr>\n",
       "      <th>3</th>\n",
       "      <td>0.067645</td>\n",
       "      <td>0.001598</td>\n",
       "      <td>0.840714</td>\n",
       "      <td>0.882928</td>\n",
       "      <td>65</td>\n",
       "      <td>{'min_samples_split': 65}</td>\n",
       "      <td>7</td>\n",
       "      <td>0.841856</td>\n",
       "      <td>0.884481</td>\n",
       "      <td>0.846555</td>\n",
       "      <td>...</td>\n",
       "      <td>0.837518</td>\n",
       "      <td>0.883251</td>\n",
       "      <td>0.833728</td>\n",
       "      <td>0.880765</td>\n",
       "      <td>0.843913</td>\n",
       "      <td>0.884258</td>\n",
       "      <td>0.000579</td>\n",
       "      <td>0.000017</td>\n",
       "      <td>0.004575</td>\n",
       "      <td>0.001418</td>\n",
       "    </tr>\n",
       "    <tr>\n",
       "      <th>4</th>\n",
       "      <td>0.066682</td>\n",
       "      <td>0.001703</td>\n",
       "      <td>0.844645</td>\n",
       "      <td>0.877919</td>\n",
       "      <td>85</td>\n",
       "      <td>{'min_samples_split': 85}</td>\n",
       "      <td>6</td>\n",
       "      <td>0.847775</td>\n",
       "      <td>0.878086</td>\n",
       "      <td>0.853895</td>\n",
       "      <td>...</td>\n",
       "      <td>0.838939</td>\n",
       "      <td>0.879522</td>\n",
       "      <td>0.837281</td>\n",
       "      <td>0.875081</td>\n",
       "      <td>0.845334</td>\n",
       "      <td>0.880706</td>\n",
       "      <td>0.000839</td>\n",
       "      <td>0.000080</td>\n",
       "      <td>0.006044</td>\n",
       "      <td>0.002067</td>\n",
       "    </tr>\n",
       "  </tbody>\n",
       "</table>\n",
       "<p>5 rows × 21 columns</p>\n",
       "</div>"
      ],
      "text/plain": [
       "   mean_fit_time  mean_score_time  mean_test_score  mean_train_score  \\\n",
       "0       0.081951         0.001942         0.811775          0.969865   \n",
       "1       0.073159         0.001750         0.826742          0.907569   \n",
       "2       0.069648         0.001656         0.834841          0.891062   \n",
       "3       0.067645         0.001598         0.840714          0.882928   \n",
       "4       0.066682         0.001703         0.844645          0.877919   \n",
       "\n",
       "  param_min_samples_split                     params  rank_test_score  \\\n",
       "0                       5   {'min_samples_split': 5}               10   \n",
       "1                      25  {'min_samples_split': 25}                9   \n",
       "2                      45  {'min_samples_split': 45}                8   \n",
       "3                      65  {'min_samples_split': 65}                7   \n",
       "4                      85  {'min_samples_split': 85}                6   \n",
       "\n",
       "   split0_test_score  split0_train_score  split1_test_score       ...         \\\n",
       "0           0.808949            0.969270           0.811508       ...          \n",
       "1           0.824574            0.907336           0.828795       ...          \n",
       "2           0.837358            0.891290           0.840635       ...          \n",
       "3           0.841856            0.884481           0.846555       ...          \n",
       "4           0.847775            0.878086           0.853895       ...          \n",
       "\n",
       "   split2_test_score  split2_train_score  split3_test_score  \\\n",
       "0           0.818333            0.969510           0.811701   \n",
       "1           0.830175            0.906992           0.822596   \n",
       "2           0.830175            0.889823           0.827333   \n",
       "3           0.837518            0.883251           0.833728   \n",
       "4           0.838939            0.879522           0.837281   \n",
       "\n",
       "   split3_train_score  split4_test_score  split4_train_score  std_fit_time  \\\n",
       "0            0.970458           0.808385            0.971227      0.006653   \n",
       "1            0.906577           0.827570            0.911847      0.000859   \n",
       "2            0.888521           0.838702            0.896335      0.000668   \n",
       "3            0.880765           0.843913            0.884258      0.000579   \n",
       "4            0.875081           0.845334            0.880706      0.000839   \n",
       "\n",
       "   std_score_time  std_test_score  std_train_score  \n",
       "0        0.000164        0.003537         0.000861  \n",
       "1        0.000028        0.002778         0.002272  \n",
       "2        0.000028        0.005156         0.002786  \n",
       "3        0.000017        0.004575         0.001418  \n",
       "4        0.000080        0.006044         0.002067  \n",
       "\n",
       "[5 rows x 21 columns]"
      ]
     },
     "execution_count": 39,
     "metadata": {},
     "output_type": "execute_result"
    }
   ],
   "source": [
    "# scores of GridSearch CV\n",
    "scores = tree.cv_results_\n",
    "pd.DataFrame(scores).head()"
   ]
  },
  {
   "cell_type": "code",
   "execution_count": 40,
   "metadata": {},
   "outputs": [
    {
     "data": {
      "image/png": "[encoded data removed]",
      "text/plain": [
       "<matplotlib.figure.Figure at 0x7ff5bcc95898>"
      ]
     },
     "metadata": {},
     "output_type": "display_data"
    }
   ],
   "source": [
    "# plotting accuracies with min_samples_leaf\n",
    "plt.figure()\n",
    "plt.plot(scores[\"param_min_samples_split\"], \n",
    "         scores[\"mean_train_score\"], \n",
    "         label=\"training accuracy\")\n",
    "plt.plot(scores[\"param_min_samples_split\"], \n",
    "         scores[\"mean_test_score\"], \n",
    "         label=\"test accuracy\")\n",
    "plt.xlabel(\"min_samples_split\")\n",
    "plt.ylabel(\"Accuracy\")\n",
    "plt.legend()\n",
    "plt.show()\n"
   ]
  },
  {
   "cell_type": "markdown",
   "metadata": {},
   "source": [
    "This shows that as you increase the min_samples_split, the tree overfits lesser since the model is less complex."
   ]
  },
  {
   "cell_type": "markdown",
   "metadata": {},
   "source": [
    "<hr>"
   ]
  },
  {
   "cell_type": "markdown",
   "metadata": {},
   "source": [
    "## Grid Search to Find Optimal Hyperparameters"
   ]
  },
  {
   "cell_type": "markdown",
   "metadata": {},
   "source": [
    "We can now use GridSearchCV to find multiple optimal hyperparameters together. Note that this time, we'll also specify the criterion (gini/entropy or IG)."
   ]
  },
  {
   "cell_type": "code",
   "execution_count": 41,
   "metadata": {},
   "outputs": [
    {
     "name": "stdout",
     "output_type": "stream",
     "text": [
      "Fitting 5 folds for each of 16 candidates, totalling 80 fits\n"
     ]
    },
    {
     "name": "stderr",
     "output_type": "stream",
     "text": [
      "[Parallel(n_jobs=1)]: Done  80 out of  80 | elapsed:    3.9s finished\n"
     ]
    },
    {
     "data": {
      "text/plain": [
       "GridSearchCV(cv=5, error_score='raise',\n",
       "       estimator=DecisionTreeClassifier(class_weight=None, criterion='gini', max_depth=None,\n",
       "            max_features=None, max_leaf_nodes=None,\n",
       "            min_impurity_decrease=0.0, min_impurity_split=None,\n",
       "            min_samples_leaf=1, min_samples_split=2,\n",
       "            min_weight_fraction_leaf=0.0, presort=False, random_state=None,\n",
       "            splitter='best'),\n",
       "       fit_params=None, iid=True, n_jobs=1,\n",
       "       param_grid={'max_depth': range(5, 15, 5), 'min_samples_leaf': range(50, 150, 50), 'min_samples_split': range(50, 150, 50), 'criterion': ['entropy', 'gini']},\n",
       "       pre_dispatch='2*n_jobs', refit=True, return_train_score='warn',\n",
       "       scoring=None, verbose=1)"
      ]
     },
     "execution_count": 41,
     "metadata": {},
     "output_type": "execute_result"
    }
   ],
   "source": [
    "# Create the parameter grid \n",
    "param_grid = {\n",
    "    'max_depth': range(5, 15, 5),\n",
    "    'min_samples_leaf': range(50, 150, 50),\n",
    "    'min_samples_split': range(50, 150, 50),\n",
    "    'criterion': [\"entropy\", \"gini\"]\n",
    "}\n",
    "\n",
    "n_folds = 5\n",
    "\n",
    "# Instantiate the grid search model\n",
    "dtree = DecisionTreeClassifier()\n",
    "grid_search = GridSearchCV(estimator = dtree, param_grid = param_grid, \n",
    "                          cv = n_folds, verbose = 1)\n",
    "\n",
    "# Fit the grid search to the data\n",
    "grid_search.fit(X_train,y_train)"
   ]
  },
  {
   "cell_type": "code",
   "execution_count": 42,
   "metadata": {
    "scrolled": true
   },
   "outputs": [
    {
     "data": {
      "text/html": [
       "<div>\n",
       "<style>\n",
       "    .dataframe thead tr:only-child th {\n",
       "        text-align: right;\n",
       "    }\n",
       "\n",
       "    .dataframe thead th {\n",
       "        text-align: left;\n",
       "    }\n",
       "\n",
       "    .dataframe tbody tr th {\n",
       "        vertical-align: top;\n",
       "    }\n",
       "</style>\n",
       "<table border=\"1\" class=\"dataframe\">\n",
       "  <thead>\n",
       "    <tr style=\"text-align: right;\">\n",
       "      <th></th>\n",
       "      <th>mean_fit_time</th>\n",
       "      <th>mean_score_time</th>\n",
       "      <th>mean_test_score</th>\n",
       "      <th>mean_train_score</th>\n",
       "      <th>param_criterion</th>\n",
       "      <th>param_max_depth</th>\n",
       "      <th>param_min_samples_leaf</th>\n",
       "      <th>param_min_samples_split</th>\n",
       "      <th>params</th>\n",
       "      <th>rank_test_score</th>\n",
       "      <th>...</th>\n",
       "      <th>split2_test_score</th>\n",
       "      <th>split2_train_score</th>\n",
       "      <th>split3_test_score</th>\n",
       "      <th>split3_train_score</th>\n",
       "      <th>split4_test_score</th>\n",
       "      <th>split4_train_score</th>\n",
       "      <th>std_fit_time</th>\n",
       "      <th>std_score_time</th>\n",
       "      <th>std_test_score</th>\n",
       "      <th>std_train_score</th>\n",
       "    </tr>\n",
       "  </thead>\n",
       "  <tbody>\n",
       "    <tr>\n",
       "      <th>0</th>\n",
       "      <td>0.044453</td>\n",
       "      <td>0.001555</td>\n",
       "      <td>0.841804</td>\n",
       "      <td>0.843296</td>\n",
       "      <td>entropy</td>\n",
       "      <td>5</td>\n",
       "      <td>50</td>\n",
       "      <td>50</td>\n",
       "      <td>{'criterion': 'entropy', 'max_depth': 5, 'min_...</td>\n",
       "      <td>13</td>\n",
       "      <td>...</td>\n",
       "      <td>0.840360</td>\n",
       "      <td>0.842342</td>\n",
       "      <td>0.845097</td>\n",
       "      <td>0.841158</td>\n",
       "      <td>0.845334</td>\n",
       "      <td>0.847552</td>\n",
       "      <td>0.005908</td>\n",
       "      <td>0.000316</td>\n",
       "      <td>0.004273</td>\n",
       "      <td>0.002358</td>\n",
       "    </tr>\n",
       "    <tr>\n",
       "      <th>1</th>\n",
       "      <td>0.037790</td>\n",
       "      <td>0.001318</td>\n",
       "      <td>0.841804</td>\n",
       "      <td>0.843296</td>\n",
       "      <td>entropy</td>\n",
       "      <td>5</td>\n",
       "      <td>50</td>\n",
       "      <td>100</td>\n",
       "      <td>{'criterion': 'entropy', 'max_depth': 5, 'min_...</td>\n",
       "      <td>13</td>\n",
       "      <td>...</td>\n",
       "      <td>0.840360</td>\n",
       "      <td>0.842342</td>\n",
       "      <td>0.845097</td>\n",
       "      <td>0.841158</td>\n",
       "      <td>0.845334</td>\n",
       "      <td>0.847552</td>\n",
       "      <td>0.000252</td>\n",
       "      <td>0.000053</td>\n",
       "      <td>0.004273</td>\n",
       "      <td>0.002358</td>\n",
       "    </tr>\n",
       "    <tr>\n",
       "      <th>2</th>\n",
       "      <td>0.037244</td>\n",
       "      <td>0.001351</td>\n",
       "      <td>0.841614</td>\n",
       "      <td>0.843142</td>\n",
       "      <td>entropy</td>\n",
       "      <td>5</td>\n",
       "      <td>100</td>\n",
       "      <td>50</td>\n",
       "      <td>{'criterion': 'entropy', 'max_depth': 5, 'min_...</td>\n",
       "      <td>15</td>\n",
       "      <td>...</td>\n",
       "      <td>0.840360</td>\n",
       "      <td>0.842342</td>\n",
       "      <td>0.845097</td>\n",
       "      <td>0.841158</td>\n",
       "      <td>0.845808</td>\n",
       "      <td>0.846960</td>\n",
       "      <td>0.000304</td>\n",
       "      <td>0.000085</td>\n",
       "      <td>0.004241</td>\n",
       "      <td>0.002177</td>\n",
       "    </tr>\n",
       "    <tr>\n",
       "      <th>3</th>\n",
       "      <td>0.037571</td>\n",
       "      <td>0.001331</td>\n",
       "      <td>0.841614</td>\n",
       "      <td>0.843142</td>\n",
       "      <td>entropy</td>\n",
       "      <td>5</td>\n",
       "      <td>100</td>\n",
       "      <td>100</td>\n",
       "      <td>{'criterion': 'entropy', 'max_depth': 5, 'min_...</td>\n",
       "      <td>15</td>\n",
       "      <td>...</td>\n",
       "      <td>0.840360</td>\n",
       "      <td>0.842342</td>\n",
       "      <td>0.845097</td>\n",
       "      <td>0.841158</td>\n",
       "      <td>0.845808</td>\n",
       "      <td>0.846960</td>\n",
       "      <td>0.000203</td>\n",
       "      <td>0.000038</td>\n",
       "      <td>0.004241</td>\n",
       "      <td>0.002177</td>\n",
       "    </tr>\n",
       "    <tr>\n",
       "      <th>4</th>\n",
       "      <td>0.061962</td>\n",
       "      <td>0.001479</td>\n",
       "      <td>0.849903</td>\n",
       "      <td>0.854083</td>\n",
       "      <td>entropy</td>\n",
       "      <td>10</td>\n",
       "      <td>50</td>\n",
       "      <td>50</td>\n",
       "      <td>{'criterion': 'entropy', 'max_depth': 10, 'min...</td>\n",
       "      <td>3</td>\n",
       "      <td>...</td>\n",
       "      <td>0.847229</td>\n",
       "      <td>0.854597</td>\n",
       "      <td>0.854334</td>\n",
       "      <td>0.852288</td>\n",
       "      <td>0.853861</td>\n",
       "      <td>0.855485</td>\n",
       "      <td>0.000503</td>\n",
       "      <td>0.000034</td>\n",
       "      <td>0.004545</td>\n",
       "      <td>0.001129</td>\n",
       "    </tr>\n",
       "    <tr>\n",
       "      <th>5</th>\n",
       "      <td>0.061456</td>\n",
       "      <td>0.001449</td>\n",
       "      <td>0.849903</td>\n",
       "      <td>0.854083</td>\n",
       "      <td>entropy</td>\n",
       "      <td>10</td>\n",
       "      <td>50</td>\n",
       "      <td>100</td>\n",
       "      <td>{'criterion': 'entropy', 'max_depth': 10, 'min...</td>\n",
       "      <td>3</td>\n",
       "      <td>...</td>\n",
       "      <td>0.847229</td>\n",
       "      <td>0.854597</td>\n",
       "      <td>0.854334</td>\n",
       "      <td>0.852288</td>\n",
       "      <td>0.853861</td>\n",
       "      <td>0.855485</td>\n",
       "      <td>0.000492</td>\n",
       "      <td>0.000014</td>\n",
       "      <td>0.004545</td>\n",
       "      <td>0.001129</td>\n",
       "    </tr>\n",
       "    <tr>\n",
       "      <th>6</th>\n",
       "      <td>0.057400</td>\n",
       "      <td>0.001447</td>\n",
       "      <td>0.848956</td>\n",
       "      <td>0.851312</td>\n",
       "      <td>entropy</td>\n",
       "      <td>10</td>\n",
       "      <td>100</td>\n",
       "      <td>50</td>\n",
       "      <td>{'criterion': 'entropy', 'max_depth': 10, 'min...</td>\n",
       "      <td>5</td>\n",
       "      <td>...</td>\n",
       "      <td>0.847466</td>\n",
       "      <td>0.852170</td>\n",
       "      <td>0.854098</td>\n",
       "      <td>0.850394</td>\n",
       "      <td>0.845571</td>\n",
       "      <td>0.850867</td>\n",
       "      <td>0.000717</td>\n",
       "      <td>0.000019</td>\n",
       "      <td>0.003752</td>\n",
       "      <td>0.000858</td>\n",
       "    </tr>\n",
       "    <tr>\n",
       "      <th>7</th>\n",
       "      <td>0.057355</td>\n",
       "      <td>0.001430</td>\n",
       "      <td>0.848956</td>\n",
       "      <td>0.851312</td>\n",
       "      <td>entropy</td>\n",
       "      <td>10</td>\n",
       "      <td>100</td>\n",
       "      <td>100</td>\n",
       "      <td>{'criterion': 'entropy', 'max_depth': 10, 'min...</td>\n",
       "      <td>5</td>\n",
       "      <td>...</td>\n",
       "      <td>0.847466</td>\n",
       "      <td>0.852170</td>\n",
       "      <td>0.854098</td>\n",
       "      <td>0.850394</td>\n",
       "      <td>0.845571</td>\n",
       "      <td>0.850867</td>\n",
       "      <td>0.000448</td>\n",
       "      <td>0.000031</td>\n",
       "      <td>0.003752</td>\n",
       "      <td>0.000858</td>\n",
       "    </tr>\n",
       "    <tr>\n",
       "      <th>8</th>\n",
       "      <td>0.028683</td>\n",
       "      <td>0.001253</td>\n",
       "      <td>0.844409</td>\n",
       "      <td>0.846055</td>\n",
       "      <td>gini</td>\n",
       "      <td>5</td>\n",
       "      <td>50</td>\n",
       "      <td>50</td>\n",
       "      <td>{'criterion': 'gini', 'max_depth': 5, 'min_sam...</td>\n",
       "      <td>9</td>\n",
       "      <td>...</td>\n",
       "      <td>0.847466</td>\n",
       "      <td>0.849091</td>\n",
       "      <td>0.845097</td>\n",
       "      <td>0.841158</td>\n",
       "      <td>0.847466</td>\n",
       "      <td>0.849328</td>\n",
       "      <td>0.000258</td>\n",
       "      <td>0.000051</td>\n",
       "      <td>0.005279</td>\n",
       "      <td>0.003109</td>\n",
       "    </tr>\n",
       "    <tr>\n",
       "      <th>9</th>\n",
       "      <td>0.028928</td>\n",
       "      <td>0.001239</td>\n",
       "      <td>0.844409</td>\n",
       "      <td>0.846055</td>\n",
       "      <td>gini</td>\n",
       "      <td>5</td>\n",
       "      <td>50</td>\n",
       "      <td>100</td>\n",
       "      <td>{'criterion': 'gini', 'max_depth': 5, 'min_sam...</td>\n",
       "      <td>9</td>\n",
       "      <td>...</td>\n",
       "      <td>0.847466</td>\n",
       "      <td>0.849091</td>\n",
       "      <td>0.845097</td>\n",
       "      <td>0.841158</td>\n",
       "      <td>0.847466</td>\n",
       "      <td>0.849328</td>\n",
       "      <td>0.000163</td>\n",
       "      <td>0.000010</td>\n",
       "      <td>0.005279</td>\n",
       "      <td>0.003109</td>\n",
       "    </tr>\n",
       "    <tr>\n",
       "      <th>10</th>\n",
       "      <td>0.028816</td>\n",
       "      <td>0.001242</td>\n",
       "      <td>0.843177</td>\n",
       "      <td>0.845143</td>\n",
       "      <td>gini</td>\n",
       "      <td>5</td>\n",
       "      <td>100</td>\n",
       "      <td>50</td>\n",
       "      <td>{'criterion': 'gini', 'max_depth': 5, 'min_sam...</td>\n",
       "      <td>11</td>\n",
       "      <td>...</td>\n",
       "      <td>0.844860</td>\n",
       "      <td>0.847197</td>\n",
       "      <td>0.845097</td>\n",
       "      <td>0.841158</td>\n",
       "      <td>0.845334</td>\n",
       "      <td>0.846842</td>\n",
       "      <td>0.000125</td>\n",
       "      <td>0.000019</td>\n",
       "      <td>0.004605</td>\n",
       "      <td>0.002279</td>\n",
       "    </tr>\n",
       "    <tr>\n",
       "      <th>11</th>\n",
       "      <td>0.028569</td>\n",
       "      <td>0.001249</td>\n",
       "      <td>0.843177</td>\n",
       "      <td>0.845143</td>\n",
       "      <td>gini</td>\n",
       "      <td>5</td>\n",
       "      <td>100</td>\n",
       "      <td>100</td>\n",
       "      <td>{'criterion': 'gini', 'max_depth': 5, 'min_sam...</td>\n",
       "      <td>11</td>\n",
       "      <td>...</td>\n",
       "      <td>0.844860</td>\n",
       "      <td>0.847197</td>\n",
       "      <td>0.845097</td>\n",
       "      <td>0.841158</td>\n",
       "      <td>0.845334</td>\n",
       "      <td>0.846842</td>\n",
       "      <td>0.000180</td>\n",
       "      <td>0.000028</td>\n",
       "      <td>0.004605</td>\n",
       "      <td>0.002279</td>\n",
       "    </tr>\n",
       "    <tr>\n",
       "      <th>12</th>\n",
       "      <td>0.047827</td>\n",
       "      <td>0.001432</td>\n",
       "      <td>0.851466</td>\n",
       "      <td>0.855563</td>\n",
       "      <td>gini</td>\n",
       "      <td>10</td>\n",
       "      <td>50</td>\n",
       "      <td>50</td>\n",
       "      <td>{'criterion': 'gini', 'max_depth': 10, 'min_sa...</td>\n",
       "      <td>1</td>\n",
       "      <td>...</td>\n",
       "      <td>0.849834</td>\n",
       "      <td>0.858919</td>\n",
       "      <td>0.855045</td>\n",
       "      <td>0.852229</td>\n",
       "      <td>0.855045</td>\n",
       "      <td>0.857202</td>\n",
       "      <td>0.000578</td>\n",
       "      <td>0.000032</td>\n",
       "      <td>0.004304</td>\n",
       "      <td>0.002391</td>\n",
       "    </tr>\n",
       "    <tr>\n",
       "      <th>13</th>\n",
       "      <td>0.048886</td>\n",
       "      <td>0.001463</td>\n",
       "      <td>0.851466</td>\n",
       "      <td>0.855563</td>\n",
       "      <td>gini</td>\n",
       "      <td>10</td>\n",
       "      <td>50</td>\n",
       "      <td>100</td>\n",
       "      <td>{'criterion': 'gini', 'max_depth': 10, 'min_sa...</td>\n",
       "      <td>1</td>\n",
       "      <td>...</td>\n",
       "      <td>0.849834</td>\n",
       "      <td>0.858919</td>\n",
       "      <td>0.855045</td>\n",
       "      <td>0.852229</td>\n",
       "      <td>0.855045</td>\n",
       "      <td>0.857202</td>\n",
       "      <td>0.001053</td>\n",
       "      <td>0.000030</td>\n",
       "      <td>0.004304</td>\n",
       "      <td>0.002391</td>\n",
       "    </tr>\n",
       "    <tr>\n",
       "      <th>14</th>\n",
       "      <td>0.047072</td>\n",
       "      <td>0.001469</td>\n",
       "      <td>0.846493</td>\n",
       "      <td>0.851336</td>\n",
       "      <td>gini</td>\n",
       "      <td>10</td>\n",
       "      <td>100</td>\n",
       "      <td>50</td>\n",
       "      <td>{'criterion': 'gini', 'max_depth': 10, 'min_sa...</td>\n",
       "      <td>7</td>\n",
       "      <td>...</td>\n",
       "      <td>0.843202</td>\n",
       "      <td>0.854005</td>\n",
       "      <td>0.854098</td>\n",
       "      <td>0.850394</td>\n",
       "      <td>0.846518</td>\n",
       "      <td>0.850690</td>\n",
       "      <td>0.001049</td>\n",
       "      <td>0.000032</td>\n",
       "      <td>0.006495</td>\n",
       "      <td>0.001347</td>\n",
       "    </tr>\n",
       "    <tr>\n",
       "      <th>15</th>\n",
       "      <td>0.045761</td>\n",
       "      <td>0.001423</td>\n",
       "      <td>0.846493</td>\n",
       "      <td>0.851336</td>\n",
       "      <td>gini</td>\n",
       "      <td>10</td>\n",
       "      <td>100</td>\n",
       "      <td>100</td>\n",
       "      <td>{'criterion': 'gini', 'max_depth': 10, 'min_sa...</td>\n",
       "      <td>7</td>\n",
       "      <td>...</td>\n",
       "      <td>0.843202</td>\n",
       "      <td>0.854005</td>\n",
       "      <td>0.854098</td>\n",
       "      <td>0.850394</td>\n",
       "      <td>0.846518</td>\n",
       "      <td>0.850690</td>\n",
       "      <td>0.000939</td>\n",
       "      <td>0.000012</td>\n",
       "      <td>0.006495</td>\n",
       "      <td>0.001347</td>\n",
       "    </tr>\n",
       "  </tbody>\n",
       "</table>\n",
       "<p>16 rows × 24 columns</p>\n",
       "</div>"
      ],
      "text/plain": [
       "    mean_fit_time  mean_score_time  mean_test_score  mean_train_score  \\\n",
       "0        0.044453         0.001555         0.841804          0.843296   \n",
       "1        0.037790         0.001318         0.841804          0.843296   \n",
       "2        0.037244         0.001351         0.841614          0.843142   \n",
       "3        0.037571         0.001331         0.841614          0.843142   \n",
       "4        0.061962         0.001479         0.849903          0.854083   \n",
       "5        0.061456         0.001449         0.849903          0.854083   \n",
       "6        0.057400         0.001447         0.848956          0.851312   \n",
       "7        0.057355         0.001430         0.848956          0.851312   \n",
       "8        0.028683         0.001253         0.844409          0.846055   \n",
       "9        0.028928         0.001239         0.844409          0.846055   \n",
       "10       0.028816         0.001242         0.843177          0.845143   \n",
       "11       0.028569         0.001249         0.843177          0.845143   \n",
       "12       0.047827         0.001432         0.851466          0.855563   \n",
       "13       0.048886         0.001463         0.851466          0.855563   \n",
       "14       0.047072         0.001469         0.846493          0.851336   \n",
       "15       0.045761         0.001423         0.846493          0.851336   \n",
       "\n",
       "   param_criterion param_max_depth param_min_samples_leaf  \\\n",
       "0          entropy               5                     50   \n",
       "1          entropy               5                     50   \n",
       "2          entropy               5                    100   \n",
       "3          entropy               5                    100   \n",
       "4          entropy              10                     50   \n",
       "5          entropy              10                     50   \n",
       "6          entropy              10                    100   \n",
       "7          entropy              10                    100   \n",
       "8             gini               5                     50   \n",
       "9             gini               5                     50   \n",
       "10            gini               5                    100   \n",
       "11            gini               5                    100   \n",
       "12            gini              10                     50   \n",
       "13            gini              10                     50   \n",
       "14            gini              10                    100   \n",
       "15            gini              10                    100   \n",
       "\n",
       "   param_min_samples_split                                             params  \\\n",
       "0                       50  {'criterion': 'entropy', 'max_depth': 5, 'min_...   \n",
       "1                      100  {'criterion': 'entropy', 'max_depth': 5, 'min_...   \n",
       "2                       50  {'criterion': 'entropy', 'max_depth': 5, 'min_...   \n",
       "3                      100  {'criterion': 'entropy', 'max_depth': 5, 'min_...   \n",
       "4                       50  {'criterion': 'entropy', 'max_depth': 10, 'min...   \n",
       "5                      100  {'criterion': 'entropy', 'max_depth': 10, 'min...   \n",
       "6                       50  {'criterion': 'entropy', 'max_depth': 10, 'min...   \n",
       "7                      100  {'criterion': 'entropy', 'max_depth': 10, 'min...   \n",
       "8                       50  {'criterion': 'gini', 'max_depth': 5, 'min_sam...   \n",
       "9                      100  {'criterion': 'gini', 'max_depth': 5, 'min_sam...   \n",
       "10                      50  {'criterion': 'gini', 'max_depth': 5, 'min_sam...   \n",
       "11                     100  {'criterion': 'gini', 'max_depth': 5, 'min_sam...   \n",
       "12                      50  {'criterion': 'gini', 'max_depth': 10, 'min_sa...   \n",
       "13                     100  {'criterion': 'gini', 'max_depth': 10, 'min_sa...   \n",
       "14                      50  {'criterion': 'gini', 'max_depth': 10, 'min_sa...   \n",
       "15                     100  {'criterion': 'gini', 'max_depth': 10, 'min_sa...   \n",
       "\n",
       "    rank_test_score       ...         split2_test_score  split2_train_score  \\\n",
       "0                13       ...                  0.840360            0.842342   \n",
       "1                13       ...                  0.840360            0.842342   \n",
       "2                15       ...                  0.840360            0.842342   \n",
       "3                15       ...                  0.840360            0.842342   \n",
       "4                 3       ...                  0.847229            0.854597   \n",
       "5                 3       ...                  0.847229            0.854597   \n",
       "6                 5       ...                  0.847466            0.852170   \n",
       "7                 5       ...                  0.847466            0.852170   \n",
       "8                 9       ...                  0.847466            0.849091   \n",
       "9                 9       ...                  0.847466            0.849091   \n",
       "10               11       ...                  0.844860            0.847197   \n",
       "11               11       ...                  0.844860            0.847197   \n",
       "12                1       ...                  0.849834            0.858919   \n",
       "13                1       ...                  0.849834            0.858919   \n",
       "14                7       ...                  0.843202            0.854005   \n",
       "15                7       ...                  0.843202            0.854005   \n",
       "\n",
       "    split3_test_score  split3_train_score  split4_test_score  \\\n",
       "0            0.845097            0.841158           0.845334   \n",
       "1            0.845097            0.841158           0.845334   \n",
       "2            0.845097            0.841158           0.845808   \n",
       "3            0.845097            0.841158           0.845808   \n",
       "4            0.854334            0.852288           0.853861   \n",
       "5            0.854334            0.852288           0.853861   \n",
       "6            0.854098            0.850394           0.845571   \n",
       "7            0.854098            0.850394           0.845571   \n",
       "8            0.845097            0.841158           0.847466   \n",
       "9            0.845097            0.841158           0.847466   \n",
       "10           0.845097            0.841158           0.845334   \n",
       "11           0.845097            0.841158           0.845334   \n",
       "12           0.855045            0.852229           0.855045   \n",
       "13           0.855045            0.852229           0.855045   \n",
       "14           0.854098            0.850394           0.846518   \n",
       "15           0.854098            0.850394           0.846518   \n",
       "\n",
       "    split4_train_score  std_fit_time  std_score_time  std_test_score  \\\n",
       "0             0.847552      0.005908        0.000316        0.004273   \n",
       "1             0.847552      0.000252        0.000053        0.004273   \n",
       "2             0.846960      0.000304        0.000085        0.004241   \n",
       "3             0.846960      0.000203        0.000038        0.004241   \n",
       "4             0.855485      0.000503        0.000034        0.004545   \n",
       "5             0.855485      0.000492        0.000014        0.004545   \n",
       "6             0.850867      0.000717        0.000019        0.003752   \n",
       "7             0.850867      0.000448        0.000031        0.003752   \n",
       "8             0.849328      0.000258        0.000051        0.005279   \n",
       "9             0.849328      0.000163        0.000010        0.005279   \n",
       "10            0.846842      0.000125        0.000019        0.004605   \n",
       "11            0.846842      0.000180        0.000028        0.004605   \n",
       "12            0.857202      0.000578        0.000032        0.004304   \n",
       "13            0.857202      0.001053        0.000030        0.004304   \n",
       "14            0.850690      0.001049        0.000032        0.006495   \n",
       "15            0.850690      0.000939        0.000012        0.006495   \n",
       "\n",
       "    std_train_score  \n",
       "0          0.002358  \n",
       "1          0.002358  \n",
       "2          0.002177  \n",
       "3          0.002177  \n",
       "4          0.001129  \n",
       "5          0.001129  \n",
       "6          0.000858  \n",
       "7          0.000858  \n",
       "8          0.003109  \n",
       "9          0.003109  \n",
       "10         0.002279  \n",
       "11         0.002279  \n",
       "12         0.002391  \n",
       "13         0.002391  \n",
       "14         0.001347  \n",
       "15         0.001347  \n",
       "\n",
       "[16 rows x 24 columns]"
      ]
     },
     "execution_count": 42,
     "metadata": {},
     "output_type": "execute_result"
    }
   ],
   "source": [
    "# cv results\n",
    "cv_results = pd.DataFrame(grid_search.cv_results_)\n",
    "cv_results"
   ]
  },
  {
   "cell_type": "code",
   "execution_count": 43,
   "metadata": {},
   "outputs": [
    {
     "name": "stdout",
     "output_type": "stream",
     "text": [
      "best accuracy 0.8514659214701843\n",
      "DecisionTreeClassifier(class_weight=None, criterion='gini', max_depth=10,\n",
      "            max_features=None, max_leaf_nodes=None,\n",
      "            min_impurity_decrease=0.0, min_impurity_split=None,\n",
      "            min_samples_leaf=50, min_samples_split=50,\n",
      "            min_weight_fraction_leaf=0.0, presort=False, random_state=None,\n",
      "            splitter='best')\n"
     ]
    }
   ],
   "source": [
    "# printing the optimal accuracy score and hyperparameters\n",
    "print(\"best accuracy\", grid_search.best_score_)\n",
    "print(grid_search.best_estimator_)"
   ]
  },
  {
   "cell_type": "markdown",
   "metadata": {},
   "source": [
    "<hr>"
   ]
  },
  {
   "cell_type": "markdown",
   "metadata": {},
   "source": [
    "**Running the model with best parameters obtained from grid search.**"
   ]
  },
  {
   "cell_type": "code",
   "execution_count": 44,
   "metadata": {},
   "outputs": [
    {
     "data": {
      "text/plain": [
       "DecisionTreeClassifier(class_weight=None, criterion='gini', max_depth=10,\n",
       "            max_features=None, max_leaf_nodes=None,\n",
       "            min_impurity_decrease=0.0, min_impurity_split=None,\n",
       "            min_samples_leaf=50, min_samples_split=50,\n",
       "            min_weight_fraction_leaf=0.0, presort=False, random_state=100,\n",
       "            splitter='best')"
      ]
     },
     "execution_count": 44,
     "metadata": {},
     "output_type": "execute_result"
    }
   ],
   "source": [
    "# model with optimal hyperparameters\n",
    "clf_gini = DecisionTreeClassifier(criterion = \"gini\", \n",
    "                                  random_state = 100,\n",
    "                                  max_depth=10, \n",
    "                                  min_samples_leaf=50,\n",
    "                                  min_samples_split=50)\n",
    "clf_gini.fit(X_train, y_train)"
   ]
  },
  {
   "cell_type": "code",
   "execution_count": 45,
   "metadata": {},
   "outputs": [
    {
     "data": {
      "text/plain": [
       "0.850922753895458"
      ]
     },
     "execution_count": 45,
     "metadata": {},
     "output_type": "execute_result"
    }
   ],
   "source": [
    "# accuracy score\n",
    "clf_gini.score(X_test,y_test)"
   ]
  },
  {
   "cell_type": "code",
   "execution_count": 46,
   "metadata": {},
   "outputs": [
    {
     "name": "stderr",
     "output_type": "stream",
     "text": [
      "IOPub data rate exceeded.\n",
      "The notebook server will temporarily stop sending output\n",
      "to the client in order to avoid crashing it.\n",
      "To change this limit, set the config variable\n",
      "`--NotebookApp.iopub_data_rate_limit`.\n"
     ]
    }
   ],
   "source": [
    "# plotting the tree\n",
    "dot_data = StringIO()  \n",
    "export_graphviz(clf_gini, out_file=dot_data,feature_names=features,filled=True,rounded=True)\n",
    "\n",
    "graph = pydotplus.graph_from_dot_data(dot_data.getvalue())  \n",
    "Image(graph.create_png())"
   ]
  },
  {
   "cell_type": "markdown",
   "metadata": {},
   "source": [
    "You can see that this tree is too complex to understand. Let's try reducing the max_depth and see how the tree looks."
   ]
  },
  {
   "cell_type": "code",
   "execution_count": 47,
   "metadata": {},
   "outputs": [
    {
     "name": "stdout",
     "output_type": "stream",
     "text": [
      "0.8393192617968837\n"
     ]
    }
   ],
   "source": [
    "# tree with max_depth = 3\n",
    "clf_gini = DecisionTreeClassifier(criterion = \"gini\", \n",
    "                                  random_state = 100,\n",
    "                                  max_depth=3, \n",
    "                                  min_samples_leaf=50,\n",
    "                                  min_samples_split=50)\n",
    "clf_gini.fit(X_train, y_train)\n",
    "\n",
    "# score\n",
    "print(clf_gini.score(X_test,y_test))"
   ]
  },
  {
   "cell_type": "code",
   "execution_count": 48,
   "metadata": {},
   "outputs": [
    {
     "data": {
      "image/png": "[encoded data removed]",
      "text/plain": [
       "<IPython.core.display.Image object>"
      ]
     },
     "execution_count": 48,
     "metadata": {},
     "output_type": "execute_result"
    }
   ],
   "source": [
    "# plotting tree with max_depth=3\n",
    "dot_data = StringIO()  \n",
    "export_graphviz(clf_gini, out_file=dot_data,feature_names=features,filled=True,rounded=True)\n",
    "\n",
    "graph = pydotplus.graph_from_dot_data(dot_data.getvalue())  \n",
    "Image(graph.create_png())"
   ]
  },
  {
   "cell_type": "code",
   "execution_count": 49,
   "metadata": {},
   "outputs": [
    {
     "name": "stdout",
     "output_type": "stream",
     "text": [
      "             precision    recall  f1-score   support\n",
      "\n",
      "          0       0.85      0.96      0.90      6867\n",
      "          1       0.77      0.47      0.59      2182\n",
      "\n",
      "avg / total       0.83      0.84      0.82      9049\n",
      "\n"
     ]
    }
   ],
   "source": [
    "# classification metrics\n",
    "from sklearn.metrics import classification_report,confusion_matrix\n",
    "y_pred = clf_gini.predict(X_test)\n",
    "print(classification_report(y_test, y_pred))"
   ]
  },
  {
   "cell_type": "code",
   "execution_count": 50,
   "metadata": {},
   "outputs": [
    {
     "name": "stdout",
     "output_type": "stream",
     "text": [
      "[[6564  303]\n",
      " [1151 1031]]\n"
     ]
    }
   ],
   "source": [
    "# confusion matrix\n",
    "print(confusion_matrix(y_test,y_pred))"
   ]
  },
  {
   "cell_type": "markdown",
   "metadata": {},
   "source": [
    "<hr>"
   ]
  },
  {
   "cell_type": "code",
   "execution_count": null,
   "metadata": {
    "collapsed": true
   },
   "outputs": [],
   "source": []
  }
 ],
 "metadata": {
  "kernelspec": {
   "display_name": "Python 3",
   "language": "python",
   "name": "python3"
  },
  "language_info": {
   "codemirror_mode": {
    "name": "ipython",
    "version": 3
   },
   "file_extension": ".py",
   "mimetype": "text/x-python",
   "name": "python",
   "nbconvert_exporter": "python",
   "pygments_lexer": "ipython3",
   "version": "3.6.3"
  }
 },
 "nbformat": 4,
 "nbformat_minor": 2
}
